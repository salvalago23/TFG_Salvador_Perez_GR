{
 "cells": [
  {
   "cell_type": "code",
   "execution_count": 1,
   "metadata": {},
   "outputs": [],
   "source": [
    "import sys\n",
    "import random\n",
    "\n",
    "\n",
    "sys.path.append('../')\n",
    "\n",
    "from utilities.transitionDatasetGeneration import *"
   ]
  },
  {
   "cell_type": "code",
   "execution_count": 4,
   "metadata": {},
   "outputs": [],
   "source": [
    "maze1 = {\"name\":\"maze1\",\n",
    "        \"layout\":[\n",
    "        ['x', '#', 'x', 'x', '.', '.', '.', '.', '#', '#', '#', '#', '.', 'G'],#0\n",
    "        ['x', '#', 'x', '#', '#', '#', '.', '.', '.', '.', '.', '.', '.', '.'],#1\n",
    "        ['x', 'x', 'x', 'x', '.', '#', '.', '.', '#', '.', '.', '#', '.', '.'],#2\n",
    "        ['x', '#', '#', '#', '.', '#', '.', '.', '.', '.', '.', '#', '.', '.'],#3\n",
    "        ['x', 'x', '#', 'x', '.', '#', '#', '#', '#', '#', '.', '#', '#', '.'],#4\n",
    "        ['x', 'x', 'x', 'x', '.', '.', '.', 'x', 'x', 'x', '.', '.', '#', '.'],#5\n",
    "        ['#', '#', '#', '#', '#', '.', '#', '#', 'x', 'x', '.', '.', '#', '.'],#6\n",
    "        ['.', 'x', 'x', 'x', '#', '.', '.', '#', 'x', 'x', '.', '.', '.', '.'],#7\n",
    "        ['.', 'x', 'x', 'x', '#', '.', '.', '#', '.', '#', '.', '#', '#', '#'],#8\n",
    "        ['#', 'x', '#', '.', '#', '.', '#', '#', '.', '#', '.', '.', '.', '.'],#9\n",
    "        ['.', '.', '#', '.', '.', '.', '#', '.', '.', '.', '.', '.', '.', '.'],#10\n",
    "        ['.', '#', '#', '.', '#', '.', '.', '.', '.', '#', '.', '#', '#', '.'],#11\n",
    "        ['.', '.', '.', '.', '#', '#', '.', '#', '.', '#', '.', '.', '#', '.'],#12\n",
    "        ['S', '.', '.', '.', '#', '.', '.', '#', '.', '#', '.', '.', '#', '.'],#13\n",
    "        # 0    1    2    3    4    5    6    7    8    9   10   11   12   13\n",
    "        ]}\n",
    "\n",
    "maze2 = {\"name\":\"maze2\",\n",
    "        \"layout\":[\n",
    "        ['.', '.', '.', '.', '.', '.', '.', '.', '.', '.', '.', '.', '.', '.'],#0\n",
    "        ['.', '.', '.', '.', '.', '.', '.', '.', '.', '.', '.', '#', '.', '.'],#1\n",
    "        ['#', '#', '.', '#', '.', '.', '.', '.', '.', '#', '#', '#', '#', '.'],#2\n",
    "        ['#', '.', '.', '#', '#', '#', '#', '#', '#', '#', '.', '.', '.', '.'],#3\n",
    "        ['.', '.', '.', '#', 'x', 'x', 'x', 'x', 'x', '#', '.', '#', '.', '.'],#4\n",
    "        ['.', '.', '.', '#', 'x', 'x', 'x', 'x', 'x', '#', '.', '.', '.', '.'],#5\n",
    "        ['.', '#', '.', '.', 'x', 'x', 'x', 'x', 'x', '#', '.', '.', '.', '.'],#6\n",
    "        ['.', '#', '.', '#', 'x', 'x', 'x', 'x', 'x', '#', '.', '.', '.', '.'],#7\n",
    "        ['.', '.', '.', '#', 'x', 'x', 'x', 'x', 'x', '#', '.', '.', '.', '.'],#8\n",
    "        ['.', '#', '.', '#', '#', '#', '.', '#', '#', '#', '.', '.', '.', '.'],#9\n",
    "        ['.', '.', '.', '.', '.', '.', '.', '.', '.', '.', '.', '#', '#', '.'],#10\n",
    "        ['.', '#', '.', '.', '.', '.', '.', '.', '.', '.', '.', '#', '#', '.'],#11\n",
    "        ['.', '#', '.', '.', '.', '.', '.', '.', '.', '.', '#', '.', '#', '.'],#12\n",
    "        ['.', '.', '.', '.', '.', '.', '.', '.', 'x', '.', '.', '.', '.', '.'],#13\n",
    "        # 0    1    2    3    4    5    6    7    8    9   10   11   12   13\n",
    "        ]}\n",
    "\n",
    "maze3 = {\"name\":\"maze3\",\n",
    "        \"layout\":[\n",
    "        ['.', '.', 'G'],#0\n",
    "        ['.', '.', '.'],#1\n",
    "        ['x', 'x', 'x'],#2\n",
    "        # 0    1    2\n",
    "        ]}"
   ]
  },
  {
   "cell_type": "code",
   "execution_count": 7,
   "metadata": {},
   "outputs": [],
   "source": [
    "maze = maze1[\"layout\"]\n",
    "n_epochs = 120000\n",
    "n_models = 5\n",
    "hidden_size = 512"
   ]
  },
  {
   "cell_type": "code",
   "execution_count": 8,
   "metadata": {},
   "outputs": [
    {
     "name": "stdout",
     "output_type": "stream",
     "text": [
      "Training model 1...\n"
     ]
    },
    {
     "name": "stderr",
     "output_type": "stream",
     "text": [
      "100%|██████████| 120000/120000 [28:47<00:00, 69.48it/s]\n"
     ]
    },
    {
     "name": "stdout",
     "output_type": "stream",
     "text": [
      "Trained successfully!\n",
      "Final loss: 0.005836231168359518\n",
      "\n",
      "Training model 2...\n"
     ]
    },
    {
     "name": "stderr",
     "output_type": "stream",
     "text": [
      "100%|██████████| 120000/120000 [28:45<00:00, 69.55it/s]\n"
     ]
    },
    {
     "name": "stdout",
     "output_type": "stream",
     "text": [
      "Trained successfully!\n",
      "Final loss: 0.00596644077450037\n",
      "\n",
      "Training model 3...\n"
     ]
    },
    {
     "name": "stderr",
     "output_type": "stream",
     "text": [
      "100%|██████████| 120000/120000 [28:40<00:00, 69.76it/s]\n"
     ]
    },
    {
     "name": "stdout",
     "output_type": "stream",
     "text": [
      "Trained successfully!\n",
      "Final loss: 0.00010073224257212132\n",
      "\n",
      "Training model 4...\n"
     ]
    },
    {
     "name": "stderr",
     "output_type": "stream",
     "text": [
      "100%|██████████| 120000/120000 [27:59<00:00, 71.46it/s]\n"
     ]
    },
    {
     "name": "stdout",
     "output_type": "stream",
     "text": [
      "Trained successfully!\n",
      "Final loss: 0.003359315451234579\n",
      "\n",
      "Training model 5...\n"
     ]
    },
    {
     "name": "stderr",
     "output_type": "stream",
     "text": [
      "100%|██████████| 120000/120000 [26:30<00:00, 75.44it/s]"
     ]
    },
    {
     "name": "stdout",
     "output_type": "stream",
     "text": [
      "Trained successfully!\n",
      "Final loss: 6.11918221693486e-05\n",
      "\n"
     ]
    },
    {
     "name": "stderr",
     "output_type": "stream",
     "text": [
      "\n"
     ]
    }
   ],
   "source": [
    "#Modo 1\n",
    "train_transitions, val_transitions = transition_generator(maze)\n",
    "\n",
    "models1_arr = []\n",
    "\n",
    "for i in range(n_models):\n",
    "    print(f\"Training model {i+1}...\")\n",
    "\n",
    "    model = ModelTrainer(train_transitions, val_transitions, n_epochs=120000, rand_seed=True)\n",
    "\n",
    "    model.fit()\n",
    "    models1_arr.append(model)"
   ]
  },
  {
   "cell_type": "code",
   "execution_count": 9,
   "metadata": {},
   "outputs": [
    {
     "name": "stdout",
     "output_type": "stream",
     "text": [
      "Training model 1...\n"
     ]
    },
    {
     "name": "stderr",
     "output_type": "stream",
     "text": [
      "100%|██████████| 120000/120000 [34:04<00:00, 58.69it/s]\n"
     ]
    },
    {
     "name": "stdout",
     "output_type": "stream",
     "text": [
      "Trained successfully!\n",
      "Final loss: 0.0003047503996640444\n",
      "\n",
      "Training model 2...\n"
     ]
    },
    {
     "name": "stderr",
     "output_type": "stream",
     "text": [
      "100%|██████████| 120000/120000 [34:47<00:00, 57.48it/s]\n"
     ]
    },
    {
     "name": "stdout",
     "output_type": "stream",
     "text": [
      "Trained successfully!\n",
      "Final loss: 0.0007935783360153437\n",
      "\n",
      "Training model 3...\n"
     ]
    },
    {
     "name": "stderr",
     "output_type": "stream",
     "text": [
      "100%|██████████| 120000/120000 [36:47<00:00, 54.35it/s]\n"
     ]
    },
    {
     "name": "stdout",
     "output_type": "stream",
     "text": [
      "Trained successfully!\n",
      "Final loss: 1.6236093870247714e-05\n",
      "\n",
      "Training model 4...\n"
     ]
    },
    {
     "name": "stderr",
     "output_type": "stream",
     "text": [
      "100%|██████████| 120000/120000 [36:12<00:00, 55.23it/s]\n"
     ]
    },
    {
     "name": "stdout",
     "output_type": "stream",
     "text": [
      "Trained successfully!\n",
      "Final loss: 0.00012828029866795987\n",
      "\n",
      "Training model 5...\n"
     ]
    },
    {
     "name": "stderr",
     "output_type": "stream",
     "text": [
      "100%|██████████| 120000/120000 [36:33<00:00, 54.70it/s]"
     ]
    },
    {
     "name": "stdout",
     "output_type": "stream",
     "text": [
      "Trained successfully!\n",
      "Final loss: 0.008768966421484947\n",
      "\n"
     ]
    },
    {
     "name": "stderr",
     "output_type": "stream",
     "text": [
      "\n"
     ]
    }
   ],
   "source": [
    "#Modo 2\n",
    "train_transitions, val_transitions = transition_generator(maze)\n",
    "\n",
    "models2_arr = []\n",
    "\n",
    "for i in range(n_models):    \n",
    "    new_train = train_transitions.copy()\n",
    "    transiciones_a_repetir = random.sample(new_train, int(0.33 * len(new_train)))\n",
    "    new_train.extend(transiciones_a_repetir)\n",
    "\n",
    "    print(f\"Training model {i+1}...\")\n",
    "\n",
    "    model = ModelTrainer(new_train, val_transitions, n_epochs=120000, rand_seed=True)\n",
    "\n",
    "    model.fit()\n",
    "    models2_arr.append(model)"
   ]
  },
  {
   "cell_type": "code",
   "execution_count": 10,
   "metadata": {},
   "outputs": [
    {
     "name": "stdout",
     "output_type": "stream",
     "text": [
      "Training model 1...\n"
     ]
    },
    {
     "name": "stderr",
     "output_type": "stream",
     "text": [
      "100%|██████████| 120000/120000 [28:56<00:00, 69.12it/s]\n"
     ]
    },
    {
     "name": "stdout",
     "output_type": "stream",
     "text": [
      "Trained successfully!\n",
      "Final loss: 0.0007696335087530315\n",
      "\n",
      "Training model 2...\n"
     ]
    },
    {
     "name": "stderr",
     "output_type": "stream",
     "text": [
      "100%|██████████| 120000/120000 [28:54<00:00, 69.18it/s]\n"
     ]
    },
    {
     "name": "stdout",
     "output_type": "stream",
     "text": [
      "Trained successfully!\n",
      "Final loss: 0.0008644695626571774\n",
      "\n",
      "Training model 3...\n"
     ]
    },
    {
     "name": "stderr",
     "output_type": "stream",
     "text": [
      "100%|██████████| 120000/120000 [28:57<00:00, 69.07it/s]\n"
     ]
    },
    {
     "name": "stdout",
     "output_type": "stream",
     "text": [
      "Trained successfully!\n",
      "Final loss: 0.017967401072382927\n",
      "\n",
      "Training model 4...\n"
     ]
    },
    {
     "name": "stderr",
     "output_type": "stream",
     "text": [
      "100%|██████████| 120000/120000 [28:54<00:00, 69.20it/s]\n"
     ]
    },
    {
     "name": "stdout",
     "output_type": "stream",
     "text": [
      "Trained successfully!\n",
      "Final loss: 0.00028090132400393486\n",
      "\n",
      "Training model 5...\n"
     ]
    },
    {
     "name": "stderr",
     "output_type": "stream",
     "text": [
      "100%|██████████| 120000/120000 [28:31<00:00, 70.13it/s]"
     ]
    },
    {
     "name": "stdout",
     "output_type": "stream",
     "text": [
      "Trained successfully!\n",
      "Final loss: 8.298590546473861e-05\n",
      "\n"
     ]
    },
    {
     "name": "stderr",
     "output_type": "stream",
     "text": [
      "\n"
     ]
    }
   ],
   "source": [
    "#Modo 3\n",
    "train_transitions, val_transitions = transition_generator(maze)\n",
    "new_train_transitions, new_val_transitions = transitions_families_generator_with_validation_data(train_transitions, val_transitions, n_models)\n",
    "\n",
    "models3_arr = []\n",
    "\n",
    "for i in range(n_models):\n",
    "    print(f\"Training model {i+1}...\")\n",
    "\n",
    "    model = ModelTrainer(new_train_transitions[i], new_val_transitions[i], n_epochs=120000, rand_seed=True)\n",
    "\n",
    "    model.fit()\n",
    "    models3_arr.append(model)"
   ]
  },
  {
   "cell_type": "code",
   "execution_count": 12,
   "metadata": {},
   "outputs": [],
   "source": [
    "for i, model in enumerate(models1_arr):\n",
    "    torch.save(model.model.state_dict(), f'model_mode1_{i}.pt')\n",
    "\n",
    "# Guardar modelos del Modo 2\n",
    "for i, model in enumerate(models2_arr):\n",
    "    torch.save(model.model.state_dict(), f'model_mode2_{i}.pt')\n",
    "\n",
    "# Guardar modelos del Modo 3\n",
    "for i, model in enumerate(models3_arr):\n",
    "    torch.save(model.model.state_dict(), f'model_mode3_{i}.pt')"
   ]
  }
 ],
 "metadata": {
  "kernelspec": {
   "display_name": "TFG",
   "language": "python",
   "name": "python3"
  },
  "language_info": {
   "codemirror_mode": {
    "name": "ipython",
    "version": 3
   },
   "file_extension": ".py",
   "mimetype": "text/x-python",
   "name": "python",
   "nbconvert_exporter": "python",
   "pygments_lexer": "ipython3",
   "version": "3.11.5"
  }
 },
 "nbformat": 4,
 "nbformat_minor": 2
}
