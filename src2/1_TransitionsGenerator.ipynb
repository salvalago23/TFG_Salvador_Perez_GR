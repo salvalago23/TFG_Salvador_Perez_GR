{
 "cells": [
  {
   "cell_type": "code",
   "execution_count": 1,
   "metadata": {},
   "outputs": [],
   "source": [
    "import sys\n",
    "sys.path.append('../')\n",
    "\n",
    "from utilities.transitionDatasetGeneration import *"
   ]
  },
  {
   "cell_type": "code",
   "execution_count": 2,
   "metadata": {},
   "outputs": [
    {
     "name": "stdout",
     "output_type": "stream",
     "text": [
      "Using device: cuda\n"
     ]
    }
   ],
   "source": [
    "device = torch.device(\"cuda\" if torch.cuda.is_available() else \"cpu\")\n",
    "print(\"Using device:\", device)"
   ]
  },
  {
   "cell_type": "code",
   "execution_count": 4,
   "metadata": {},
   "outputs": [],
   "source": [
    "maze1 = {\"name\":\"maze1\",\n",
    "        \"layout\":[\n",
    "        ['x', '#', 'x', 'x', '.', '.', '.', '.', '#', '#', '#', '#', '.', 'G'],#0\n",
    "        ['x', '#', 'x', '#', '#', '#', '.', '.', '.', '.', '.', '.', '.', '.'],#1\n",
    "        ['x', 'x', 'x', 'x', '.', '#', '.', '.', '#', '.', '.', '#', '.', '.'],#2\n",
    "        ['x', '#', '#', '#', '.', '#', '.', '.', '.', '.', '.', '#', '.', '.'],#3\n",
    "        ['x', 'x', '#', 'x', '.', '#', '#', '#', '#', '#', '.', '#', '#', '.'],#4\n",
    "        ['x', 'x', 'x', 'x', '.', '.', '.', 'x', 'x', 'x', '.', '.', '#', '.'],#5\n",
    "        ['#', '#', '#', '#', '#', '.', '#', '#', 'x', 'x', '.', '.', '#', '.'],#6\n",
    "        ['.', 'x', 'x', 'x', '#', '.', '.', '#', 'x', 'x', '.', '.', '.', '.'],#7\n",
    "        ['.', 'x', 'x', 'x', '#', '.', '.', '#', '.', '#', '.', '#', '#', '#'],#8\n",
    "        ['#', 'x', '#', '.', '#', '.', '#', '#', '.', '#', '.', '.', '.', '.'],#9\n",
    "        ['.', '.', '#', '.', '.', '.', '#', '.', '.', '.', '.', '.', '.', '.'],#10\n",
    "        ['.', '#', '#', '.', '#', '.', '.', '.', '.', '#', '.', '#', '#', '.'],#11\n",
    "        ['.', '.', '.', '.', '#', '#', '.', '#', '.', '#', '.', '.', '#', '.'],#12\n",
    "        ['S', '.', '.', '.', '#', '.', '.', '#', '.', '#', '.', '.', '#', '.'],#13\n",
    "        # 0    1    2    3    4    5    6    7    8    9   10   11   12   13\n",
    "        ]}\n",
    "\n",
    "maze2 = {\"name\":\"maze2\",\n",
    "        \"layout\":[\n",
    "        ['.', '.', '.', '.', '.', '.', '.', '.', '.', '.', '.', '.', '.', '.'],#0\n",
    "        ['.', '.', '.', '.', '.', '.', '.', '.', '.', '.', '.', '#', '.', '.'],#1\n",
    "        ['#', '#', '.', '#', '.', '.', '.', '.', '.', '#', '#', '#', '#', '.'],#2\n",
    "        ['#', '.', '.', '#', '#', '#', '#', '#', '#', '#', '.', '.', '.', '.'],#3\n",
    "        ['.', '.', '.', '#', 'x', 'x', 'x', 'x', 'x', '#', '.', '#', '.', '.'],#4\n",
    "        ['.', '.', '.', '#', 'x', 'x', 'x', 'x', 'x', '#', '.', '.', '.', '.'],#5\n",
    "        ['.', '#', '.', '.', 'x', 'x', 'x', 'x', 'x', '#', '.', '.', '.', '.'],#6\n",
    "        ['.', '#', '.', '#', 'x', 'x', 'x', 'x', 'x', '#', '.', '.', '.', '.'],#7\n",
    "        ['.', '.', '.', '#', 'x', 'x', 'x', 'x', 'x', '#', '.', '.', '.', '.'],#8\n",
    "        ['.', '#', '.', '#', '#', '#', '.', '#', '#', '#', '.', '.', '.', '.'],#9\n",
    "        ['.', '.', '.', '.', '.', '.', '.', '.', '.', '.', '.', '#', '#', '.'],#10\n",
    "        ['.', '#', '.', '.', '.', '.', '.', '.', '.', '.', '.', '#', '#', '.'],#11\n",
    "        ['.', '#', '.', '.', '.', '.', '.', '.', '.', '.', '#', '.', '#', '.'],#12\n",
    "        ['.', '.', '.', '.', '.', '.', '.', '.', 'x', '.', '.', '.', '.', '.'],#13\n",
    "        # 0    1    2    3    4    5    6    7    8    9   10   11   12   13\n",
    "        ]}\n",
    "\n",
    "maze3 = {\"name\":\"maze3\",\n",
    "        \"layout\":[\n",
    "        ['.', '.', 'G'],#0\n",
    "        ['.', '.', '.'],#1\n",
    "        ['x', 'x', 'x'],#2\n",
    "        # 0    1    2\n",
    "        ]}"
   ]
  },
  {
   "cell_type": "code",
   "execution_count": 5,
   "metadata": {},
   "outputs": [],
   "source": [
    "maze = maze1[\"layout\"]\n",
    "n_epochs = 100000\n",
    "n_models = 5\n",
    "hidden_size = 512\n",
    "\n",
    "train_transitions, val_transitions = transition_generator(maze)"
   ]
  },
  {
   "cell_type": "code",
   "execution_count": 9,
   "metadata": {},
   "outputs": [
    {
     "name": "stdout",
     "output_type": "stream",
     "text": [
      "Training model 1...\n"
     ]
    },
    {
     "name": "stderr",
     "output_type": "stream",
     "text": [
      "100%|██████████| 120000/120000 [27:03<00:00, 73.91it/s]\n"
     ]
    },
    {
     "name": "stdout",
     "output_type": "stream",
     "text": [
      "Trained successfully!\n",
      "Final loss: 0.007205675821751356\n",
      "\n",
      "Training model 2...\n"
     ]
    },
    {
     "name": "stderr",
     "output_type": "stream",
     "text": [
      "100%|██████████| 120000/120000 [28:10<00:00, 70.97it/s]\n"
     ]
    },
    {
     "name": "stdout",
     "output_type": "stream",
     "text": [
      "Trained successfully!\n",
      "Final loss: 0.01581323705613613\n",
      "\n",
      "Training model 3...\n"
     ]
    },
    {
     "name": "stderr",
     "output_type": "stream",
     "text": [
      "100%|██████████| 120000/120000 [28:51<00:00, 69.31it/s]\n"
     ]
    },
    {
     "name": "stdout",
     "output_type": "stream",
     "text": [
      "Trained successfully!\n",
      "Final loss: 0.00015583621279802173\n",
      "\n",
      "Training model 4...\n"
     ]
    },
    {
     "name": "stderr",
     "output_type": "stream",
     "text": [
      "100%|██████████| 120000/120000 [28:43<00:00, 69.62it/s]\n"
     ]
    },
    {
     "name": "stdout",
     "output_type": "stream",
     "text": [
      "Trained successfully!\n",
      "Final loss: 0.0002739924530033022\n",
      "\n",
      "Training model 5...\n"
     ]
    },
    {
     "name": "stderr",
     "output_type": "stream",
     "text": [
      "100%|██████████| 120000/120000 [28:46<00:00, 69.49it/s]"
     ]
    },
    {
     "name": "stdout",
     "output_type": "stream",
     "text": [
      "Trained successfully!\n",
      "Final loss: 0.000992210116237402\n",
      "\n"
     ]
    },
    {
     "name": "stderr",
     "output_type": "stream",
     "text": [
      "\n"
     ]
    }
   ],
   "source": [
    "models_arr = []\n",
    "\n",
    "for i in range(n_models):\n",
    "    print(f\"Training model {i+1}...\")\n",
    "\n",
    "    model = ModelTrainer(train_transitions, val_transitions, n_epochs=120000, rand_seed=True)\n",
    "\n",
    "    model.fit()\n",
    "    models_arr.append(model)"
   ]
  },
  {
   "cell_type": "code",
   "execution_count": 13,
   "metadata": {},
   "outputs": [],
   "source": [
    "for i, model in enumerate(models_arr):\n",
    "    torch.save(model.model.state_dict(), f'model_{i}.pt')"
   ]
  },
  {
   "cell_type": "code",
   "execution_count": 14,
   "metadata": {},
   "outputs": [
    {
     "name": "stdout",
     "output_type": "stream",
     "text": [
      "\n",
      "EVALUATION:\n",
      "\n",
      "[5 3]           [5 5]\n",
      "[4 4]           [5 5]\n",
      "[5 5]           [5 5]\n",
      "[6 4]           [5 5]\n",
      "[5 3]           [5 5]\n",
      "\n",
      "\n",
      "Mean of raw values:\n",
      "[5.20196   3.9789212]\n",
      "[5.0196676 5.0015707]\n",
      "\n",
      "\n",
      "Std of raw values:\n",
      "[0.4481345 0.8320935]\n",
      "[0.02923888 0.01761499]\n",
      "0.94509476\n",
      "0.034135025\n"
     ]
    }
   ],
   "source": [
    "print('\\nEVALUATION:\\n')\n",
    "\n",
    "arr1 = []\n",
    "arr1_raw = []\n",
    "arr2 = []\n",
    "arr2_raw = []\n",
    "\n",
    "\n",
    "for model in models_arr:\n",
    "    # Single predictions\n",
    "    with torch.no_grad():\n",
    "        # Move the input data to the GPU\n",
    "        inp1 = torch.FloatTensor([[5, 3, 3]]).to(device)\n",
    "        inp2 = torch.FloatTensor([[5, 4, 3]]).to(device)\n",
    "        \n",
    "        # Perform inference on the GPU\n",
    "        resultado1 = model.model(inp1)\n",
    "        resultado2 = model.model(inp2)\n",
    "        \n",
    "        # Move the result back to CPU and convert to numpy\n",
    "        resultado1 = resultado1.cpu().detach().numpy()\n",
    "        resultado2 = resultado2.cpu().detach().numpy()\n",
    "\n",
    "        arr1.append(np.int32(np.round(resultado1[0])))\n",
    "        arr1_raw.append(resultado1[0])\n",
    "        arr2.append(np.int32(np.round(resultado2[0])))\n",
    "        arr2_raw.append(resultado2[0])\n",
    "        \n",
    "for elem, elem2 in zip(arr1, arr2):\n",
    "    print(elem, '         ', elem2)\n",
    "\n",
    "#whats the mean and the std of the raw values?\n",
    "print('\\n')\n",
    "print('Mean of raw values:')\n",
    "print(np.mean(arr1_raw, axis=0))\n",
    "print(np.mean(arr2_raw, axis=0))\n",
    "print('\\n')\n",
    "print('Std of raw values:')\n",
    "print(np.std(arr1_raw, axis=0))\n",
    "print(np.std(arr2_raw, axis=0))\n",
    "print(np.linalg.norm(np.std(arr1_raw, axis=0)))\n",
    "print(np.linalg.norm(np.std(arr2_raw, axis=0)))"
   ]
  }
 ],
 "metadata": {
  "kernelspec": {
   "display_name": "TFG",
   "language": "python",
   "name": "python3"
  },
  "language_info": {
   "codemirror_mode": {
    "name": "ipython",
    "version": 3
   },
   "file_extension": ".py",
   "mimetype": "text/x-python",
   "name": "python",
   "nbconvert_exporter": "python",
   "pygments_lexer": "ipython3",
   "version": "3.11.5"
  }
 },
 "nbformat": 4,
 "nbformat_minor": 2
}
