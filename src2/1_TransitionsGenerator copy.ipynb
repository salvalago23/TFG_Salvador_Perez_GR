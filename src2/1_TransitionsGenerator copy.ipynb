{
 "cells": [
  {
   "cell_type": "code",
   "execution_count": 9,
   "metadata": {},
   "outputs": [],
   "source": [
    "import sys\n",
    "sys.path.append('../')\n",
    "\n",
    "from envs.GridMaps import maze5x5, maze14x14\n",
    "\n",
    "from utilities.transitionDatasetGeneration import *"
   ]
  },
  {
   "cell_type": "code",
   "execution_count": 33,
   "metadata": {},
   "outputs": [
    {
     "data": {
      "text/plain": [
       "\"        if path != None:\\n            torch.save(self.model.state_dict(), f'{path}/{self.shape}_{self.id}.pt')\\n        else:\\n            #save the model with info of the shape and the id\\n            torch.save(self.model.state_dict(), f'../data/OfflineEnsembleModels/{self.shape}_{self.id}.pt')\\n\""
      ]
     },
     "execution_count": 33,
     "metadata": {},
     "output_type": "execute_result"
    }
   ],
   "source": [
    "# Define a simple neural network model\n",
    "class FeedForwardNN(nn.Module):\n",
    "    def __init__(self, input_size, hidden_size):\n",
    "        super(FeedForwardNN, self).__init__()\n",
    "        self.fc1 = nn.Linear(input_size, hidden_size)\n",
    "        self.relu = nn.ReLU()\n",
    "        self.fc2 = nn.Linear(hidden_size, hidden_size)\n",
    "        self.fc3 = nn.Linear(hidden_size, 2)\n",
    "\n",
    "    def forward(self, x):\n",
    "        x = self.relu(self.fc1(x))\n",
    "        x = self.relu(self.fc2(x))\n",
    "        x = self.fc3(x)\n",
    "        return x\n",
    "\n",
    "#Clase para simplificar la creación de los modelos a partir de las sublistas de transiciones\n",
    "class ModelTrainer33:\n",
    "    def __init__(self, id, shape, T, n_epochs, hidden_size):\n",
    "        self.id = id\n",
    "        self.shape = shape\n",
    "\n",
    "        self.T = T\n",
    "        \n",
    "        self.hidden_size = hidden_size\n",
    "\n",
    "        self.sy_values = np.array([], dtype = np.float32)\n",
    "        self.sx_values = np.array([], dtype = np.float32)\n",
    "        self.a_values = np.array([], dtype = np.float32)\n",
    "        self.sy1_values = np.array([], dtype = np.float32)\n",
    "        self.sx1_values = np.array([], dtype = np.float32)\n",
    "\n",
    "        self.X = None\n",
    "        self.y = None\n",
    "        self.X_tensor = None\n",
    "        self.y_tensor = None\n",
    "        \n",
    "        self.n_epochs = n_epochs\n",
    "        self.losses = []\n",
    "    \n",
    "    def train(self):\n",
    "        for t in self.T:\n",
    "            self.sy_values = np.append(self.sy_values, t[0])\n",
    "            self.sx_values = np.append(self.sx_values, t[1])\n",
    "            self.a_values = np.append(self.a_values, t[2])\n",
    "            self.sy1_values = np.append(self.sy1_values, t[3])\n",
    "            self.sx1_values = np.append(self.sx1_values, t[4])\n",
    "\n",
    "        self.X = np.column_stack((self.sy_values, self.sx_values, self.a_values))\n",
    "        self.y = np.column_stack((self.sy1_values, self.sx1_values))\n",
    "\n",
    "        self.X_tensor = torch.FloatTensor(self.X)\n",
    "        self.y_tensor = torch.FloatTensor(self.y)\n",
    "\n",
    "        # Instantiate the model\n",
    "        self.model = FeedForwardNN(input_size=3, hidden_size=self.hidden_size)\n",
    "\n",
    "        # Define loss function and optimizer\n",
    "        criterion = nn.MSELoss()\n",
    "        optimizer = optim.Adam(self.model.parameters(), lr=0.001)\n",
    "\n",
    "        for epoch in range(self.n_epochs):\n",
    "            # Forward pass\n",
    "            outputs = self.model(self.X_tensor)\n",
    "            loss = criterion(outputs, self.y_tensor)\n",
    "\n",
    "            # Backward pass and optimization\n",
    "            optimizer.zero_grad()\n",
    "            loss.backward()\n",
    "            optimizer.step()\n",
    "            \n",
    "            self.losses.append(loss.item())\n",
    "        \n",
    "        print(\"Trained successfully!\")\n",
    "        print(f'Final loss: {self.losses[-1]}\\n')\n",
    "        \n",
    "    def show_loss(self):\n",
    "        plt.xlabel(\"# Epoch\")\n",
    "        plt.ylabel(\"Loss Magnitude\")\n",
    "        plt.plot(self.losses)\n",
    "        plt.show()\n",
    "\"\"\"        if path != None:\n",
    "            torch.save(self.model.state_dict(), f'{path}/{self.shape}_{self.id}.pt')\n",
    "        else:\n",
    "            #save the model with info of the shape and the id\n",
    "            torch.save(self.model.state_dict(), f'../data/OfflineEnsembleModels/{self.shape}_{self.id}.pt')\n",
    "\"\"\"\n"
   ]
  },
  {
   "cell_type": "code",
   "execution_count": 74,
   "metadata": {},
   "outputs": [],
   "source": [
    "maze1 = {\"name\":\"maze1\",\n",
    "        \"layout\":[\n",
    "        ['x', '#', 'x', 'x', '.', '.', '.', '.', '#', '#', '#', '#', '.', 'G'],#0\n",
    "        ['x', '#', 'x', '#', '#', '#', '.', '.', '.', '.', '.', '.', '.', '.'],#1\n",
    "        ['x', 'x', 'x', 'x', '.', '#', '.', '.', '#', '.', '.', '#', '.', '.'],#2\n",
    "        ['x', '#', '#', '#', '.', '#', '.', '.', '.', '.', '.', '#', '.', '.'],#3\n",
    "        ['x', 'x', '#', 'x', '.', '#', '#', '#', '#', '#', '.', '#', '#', '.'],#4\n",
    "        ['x', 'x', 'x', 'x', '.', '.', '.', 'x', 'x', 'x', '.', '.', '#', '.'],#5\n",
    "        ['#', '#', '#', '#', '#', '.', '#', '#', 'x', 'x', '.', '.', '#', '.'],#6\n",
    "        ['.', 'x', 'x', 'x', '#', '.', '.', '#', 'x', 'x', '.', '.', '.', '.'],#7\n",
    "        ['.', 'x', 'x', 'x', '#', '.', '.', '#', '.', '#', '.', '#', '#', '#'],#8\n",
    "        ['#', 'x', '#', '.', '#', '.', '#', '#', '.', '#', '.', '.', '.', '.'],#9\n",
    "        ['.', '.', '#', '.', '.', '.', '#', '.', '.', '.', '.', '.', '.', '.'],#10\n",
    "        ['.', '#', '#', '.', '#', '.', '.', '.', '.', '#', '.', '#', '#', '.'],#11\n",
    "        ['.', '.', '.', '.', '#', '#', '.', '#', '.', '#', '.', '.', '#', '.'],#12\n",
    "        ['S', '.', '.', '.', '#', '.', '.', '#', '.', '#', '.', '.', '#', '.'],#13\n",
    "        # 0    1    2    3    4    5    6    7    8    9   10   11   12   13\n",
    "        ]}\n",
    "\n",
    "maze2 = {\"name\":\"maze2\",\n",
    "        \"layout\":[\n",
    "        ['.', '.', '.', '.', '.', '.', '.', '.', '.', '.', '.', '.', '.', '.'],#0\n",
    "        ['.', '.', '.', '.', '.', '.', '.', '.', '.', '.', '.', '.', '.', '.'],#1\n",
    "        ['.', '.', '.', '.', '.', '.', '.', '.', '.', '.', '.', '.', '.', '.'],#2\n",
    "        ['.', '.', '.', '.', '.', '.', '.', '.', '.', '.', '.', '.', '.', '.'],#3\n",
    "        ['.', '.', '.', '.', '.', '.', '.', '.', '.', '.', '.', '.', '.', '.'],#4\n",
    "        ['.', '.', '.', '.', '.', '.', '.', '.', '.', '.', '.', '.', '.', '.'],#5\n",
    "        ['.', '.', '.', '.', '.', '.', 'x', '.', '.', '.', '.', '.', '.', '.'],#6\n",
    "        ['.', '.', '.', '.', '.', '.', '.', '.', '.', '.', '.', '.', '.', '.'],#7\n",
    "        ['.', '.', '.', '.', '.', '.', '.', '.', '.', '.', '.', '.', '.', '.'],#8\n",
    "        ['.', '.', '.', '.', '.', '.', '.', '.', '.', '.', '.', '.', '.', '.'],#9\n",
    "        ['.', '.', '.', '.', '.', '.', '.', '.', '.', '.', '.', '.', '.', '.'],#10\n",
    "        ['.', '.', '.', '.', '.', '.', '.', '.', '.', '.', '.', '.', '.', '.'],#11\n",
    "        ['x', 'x', 'x', 'x', 'x', 'x', 'x', 'x', 'x', 'x', 'x', 'x', 'x', 'x'],#12\n",
    "        ['x', 'x', 'x', 'x', 'x', 'x', 'x', 'x', 'x', 'x', 'x', 'x', 'x', 'x'],#13\n",
    "        # 0    1    2    3    4    5    6    7    8    9   10   11   12   13\n",
    "        ]}\n",
    "\n",
    "maze3 = {\"name\":\"maze3\",\n",
    "        \"layout\":[\n",
    "        ['.', '.', 'G'],#0\n",
    "        ['.', '.', '.'],#1\n",
    "        ['x', 'x', 'x'],#2\n",
    "        # 0    1    2\n",
    "        ]}"
   ]
  },
  {
   "cell_type": "code",
   "execution_count": 80,
   "metadata": {},
   "outputs": [],
   "source": [
    "shape = \"14x14\"\n",
    "\n",
    "maze = maze3[\"layout\"]\n",
    "n_epochs = 5000\n",
    "n_models = 5\n",
    "hidden_size = 64"
   ]
  },
  {
   "cell_type": "code",
   "execution_count": 81,
   "metadata": {},
   "outputs": [],
   "source": [
    "all_transitions = transition_generator(maze)\n",
    "new_transitions = transitions_families_generator_FULLY_REPRESENTED(all_transitions, n_models)"
   ]
  },
  {
   "cell_type": "code",
   "execution_count": 82,
   "metadata": {},
   "outputs": [
    {
     "name": "stdout",
     "output_type": "stream",
     "text": [
      "Trained successfully!\n",
      "Final loss: 4.745007053941208e-09\n",
      "\n",
      "Trained successfully!\n",
      "Final loss: 8.790401200453775e-15\n",
      "\n",
      "Trained successfully!\n",
      "Final loss: 5.365867195017415e-10\n",
      "\n",
      "Trained successfully!\n",
      "Final loss: 3.751360555526162e-09\n",
      "\n",
      "Trained successfully!\n",
      "Final loss: 9.396583717288104e-14\n",
      "\n"
     ]
    }
   ],
   "source": [
    "models_arr = []\n",
    "\n",
    "for i in range(len(new_transitions)):\n",
    "    model = ModelTrainer33(1, shape, all_transitions, n_epochs, hidden_size=hidden_size)\n",
    "\n",
    "    model.train()\n",
    "    models_arr.append(model)"
   ]
  },
  {
   "cell_type": "code",
   "execution_count": 83,
   "metadata": {},
   "outputs": [
    {
     "name": "stdout",
     "output_type": "stream",
     "text": [
      "\n",
      "EVALUATION:\n",
      "\n",
      "[0 1]           [2 7]\n",
      "[0 1]           [1 7]\n",
      "[0 1]           [0 6]\n",
      "[0 1]           [-1  7]\n",
      "[0 1]           [0 7]\n"
     ]
    }
   ],
   "source": [
    "print('\\nEVALUATION:\\n')\n",
    "\n",
    "arr1 = []\n",
    "arr2 = []\n",
    "\n",
    "for model in models_arr:\n",
    "    # Single predictions\n",
    "    with torch.no_grad():\n",
    "        inp = torch.FloatTensor([[1, 1, 0]])\n",
    "        resultado = model.model(inp)\n",
    "        resultado = resultado.detach().numpy()\n",
    "        arr1.append(np.int32(np.round(resultado[0])))\n",
    "\n",
    "        inp = torch.FloatTensor([[6, 6, 1]])\n",
    "        resultado = model.model(inp)\n",
    "        resultado = resultado.detach().numpy()\n",
    "        arr2.append(np.int32(np.round(resultado[0])))\n",
    "\n",
    "for elem, elem2 in zip(arr1, arr2):\n",
    "    print(elem, '         ', elem2)"
   ]
  },
  {
   "cell_type": "code",
   "execution_count": 84,
   "metadata": {},
   "outputs": [],
   "source": [
    "#probMapper(maze, n_models, threshold=50.0)"
   ]
  }
 ],
 "metadata": {
  "kernelspec": {
   "display_name": "TFG",
   "language": "python",
   "name": "python3"
  },
  "language_info": {
   "codemirror_mode": {
    "name": "ipython",
    "version": 3
   },
   "file_extension": ".py",
   "mimetype": "text/x-python",
   "name": "python",
   "nbconvert_exporter": "python",
   "pygments_lexer": "ipython3",
   "version": "3.11.5"
  }
 },
 "nbformat": 4,
 "nbformat_minor": 2
}
