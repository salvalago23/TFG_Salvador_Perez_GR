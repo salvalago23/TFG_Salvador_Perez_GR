{
 "cells": [
  {
   "cell_type": "code",
   "execution_count": 1,
   "metadata": {},
   "outputs": [],
   "source": [
    "import sys\n",
    "sys.path.append('../')\n",
    "\n",
    "from envs.GridMaps import *\n",
    "from utilities.transitionDatasetGeneration import *"
   ]
  },
  {
   "cell_type": "code",
   "execution_count": 2,
   "metadata": {},
   "outputs": [],
   "source": [
    "shape = \"14x14\"\n",
    "NoWalls = True\n",
    "if shape == \"5x5\":\n",
    "    maze = maze5x5[\"maze\"]\n",
    "    n_epochs = 15000\n",
    "    folder_name = \"5x5_5_model\"\n",
    "    n_models = 5\n",
    "    hidden_size = 32\n",
    "\n",
    "elif shape == \"14x14\":\n",
    "    if NoWalls:\n",
    "        maze = NoWalls_maze14x14[\"maze\"]\n",
    "        n_epochs = 120000\n",
    "        folder_name = \"NoWalls_5_model\"  #to store the models weights and losses\n",
    "    else:\n",
    "        maze = maze14x14[\"maze\"]\n",
    "        n_epochs = 120000\n",
    "        folder_name = \"5_model\"\n",
    "    n_models = 5\n",
    "    hidden_size = 512\n",
    "    \n",
    "\n",
    "train_transitions, val_transitions = transition_generator(maze)"
   ]
  },
  {
   "cell_type": "code",
   "execution_count": 3,
   "metadata": {},
   "outputs": [
    {
     "name": "stdout",
     "output_type": "stream",
     "text": [
      "Training model 1...\n"
     ]
    },
    {
     "name": "stderr",
     "output_type": "stream",
     "text": [
      "100%|██████████| 120000/120000 [53:23<00:00, 37.45it/s]\n"
     ]
    },
    {
     "name": "stdout",
     "output_type": "stream",
     "text": [
      "Trained successfully!\n",
      "Final loss: 0.00031779237906448543\n",
      "\n",
      "Training model 2...\n"
     ]
    },
    {
     "name": "stderr",
     "output_type": "stream",
     "text": [
      "100%|██████████| 120000/120000 [24:16<00:00, 82.37it/s]\n"
     ]
    },
    {
     "name": "stdout",
     "output_type": "stream",
     "text": [
      "Trained successfully!\n",
      "Final loss: 9.627534382161684e-06\n",
      "\n",
      "Training model 3...\n"
     ]
    },
    {
     "name": "stderr",
     "output_type": "stream",
     "text": [
      "100%|██████████| 120000/120000 [24:07<00:00, 82.88it/s]\n"
     ]
    },
    {
     "name": "stdout",
     "output_type": "stream",
     "text": [
      "Trained successfully!\n",
      "Final loss: 9.525135101284832e-05\n",
      "\n",
      "Training model 4...\n"
     ]
    },
    {
     "name": "stderr",
     "output_type": "stream",
     "text": [
      "100%|██████████| 120000/120000 [24:09<00:00, 82.80it/s]\n"
     ]
    },
    {
     "name": "stdout",
     "output_type": "stream",
     "text": [
      "Trained successfully!\n",
      "Final loss: 7.87990793469362e-05\n",
      "\n",
      "Training model 5...\n"
     ]
    },
    {
     "name": "stderr",
     "output_type": "stream",
     "text": [
      "100%|██████████| 120000/120000 [24:03<00:00, 83.11it/s]"
     ]
    },
    {
     "name": "stdout",
     "output_type": "stream",
     "text": [
      "Trained successfully!\n",
      "Final loss: 4.033895947941346e-06\n",
      "\n"
     ]
    },
    {
     "name": "stderr",
     "output_type": "stream",
     "text": [
      "\n"
     ]
    }
   ],
   "source": [
    "models_arr = []\n",
    "\n",
    "for i in range(n_models):\n",
    "    print(f\"Training model {i+1}...\")\n",
    "\n",
    "    model = ModelTrainer(train_transitions, val_transitions, n_epochs, hidden_size, rand_seed=True)\n",
    "\n",
    "    model.fit()\n",
    "    models_arr.append(model)"
   ]
  },
  {
   "cell_type": "code",
   "execution_count": 4,
   "metadata": {},
   "outputs": [],
   "source": [
    "store_models(models_arr, folder_name)"
   ]
  },
  {
   "cell_type": "code",
   "execution_count": 5,
   "metadata": {},
   "outputs": [
    {
     "name": "stdout",
     "output_type": "stream",
     "text": [
      "\n",
      "EVALUATION:\n",
      "\n",
      "Using device: cuda\n",
      "[5 4]           [5 5]\n",
      "[5 4]           [5 5]\n",
      "[5 4]           [5 5]\n",
      "[5 4]           [5 5]\n",
      "[5 4]           [5 5]\n",
      "\n",
      "\n",
      "Mean of raw values:\n",
      "[4.978347 4.020192]\n",
      "[4.999214  4.9975233]\n",
      "\n",
      "\n",
      "Std of raw values:\n",
      "[0.02268483 0.02357475]       0.032716516\n",
      "[0.02118679 0.01715924]       0.02726389\n"
     ]
    }
   ],
   "source": [
    "print('\\nEVALUATION:\\n')\n",
    "\n",
    "device = torch.device(\"cuda\" if torch.cuda.is_available() else \"cpu\")\n",
    "print(\"Using device:\", device)\n",
    "\n",
    "arr1 = []\n",
    "arr1_raw = []\n",
    "arr2 = []\n",
    "arr2_raw = []\n",
    "\n",
    "for model in models_arr:\n",
    "    # Single predictions\n",
    "    with torch.no_grad():\n",
    "        # Move the input data to the GPU\n",
    "        inp1 = torch.FloatTensor([[5, 3, 3]]).to(device)\n",
    "        inp2 = torch.FloatTensor([[5, 4, 3]]).to(device)\n",
    "        \n",
    "        # Perform inference on the GPU\n",
    "        resultado1 = model.model(inp1)\n",
    "        resultado2 = model.model(inp2)\n",
    "        \n",
    "        # Move the result back to CPU and convert to numpy\n",
    "        resultado1 = resultado1.cpu().detach().numpy()\n",
    "        resultado2 = resultado2.cpu().detach().numpy()\n",
    "\n",
    "        arr1.append(np.int32(np.round(resultado1[0])))\n",
    "        arr1_raw.append(resultado1[0])\n",
    "        arr2.append(np.int32(np.round(resultado2[0])))\n",
    "        arr2_raw.append(resultado2[0])\n",
    "        \n",
    "for elem, elem2 in zip(arr1, arr2):\n",
    "    print(elem, '         ', elem2)\n",
    "\n",
    "#whats the mean and the std of the raw values?\n",
    "print('\\n')\n",
    "print('Mean of raw values:')\n",
    "print(np.mean(arr1_raw, axis=0))\n",
    "print(np.mean(arr2_raw, axis=0))\n",
    "print('\\n')\n",
    "print('Std of raw values:')\n",
    "print(np.std(arr1_raw, axis=0), '     ', np.linalg.norm(np.std(arr1_raw, axis=0)))\n",
    "print(np.std(arr2_raw, axis=0), '     ', np.linalg.norm(np.std(arr2_raw, axis=0)))\n"
   ]
  }
 ],
 "metadata": {
  "kernelspec": {
   "display_name": "TFG",
   "language": "python",
   "name": "python3"
  },
  "language_info": {
   "codemirror_mode": {
    "name": "ipython",
    "version": 3
   },
   "file_extension": ".py",
   "mimetype": "text/x-python",
   "name": "python",
   "nbconvert_exporter": "python",
   "pygments_lexer": "ipython3",
   "version": "3.11.5"
  }
 },
 "nbformat": 4,
 "nbformat_minor": 2
}
