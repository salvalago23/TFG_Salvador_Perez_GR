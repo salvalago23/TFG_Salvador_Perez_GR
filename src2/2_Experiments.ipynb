{
 "cells": [
  {
   "cell_type": "code",
   "execution_count": 1,
   "metadata": {},
   "outputs": [],
   "source": [
    "import sys\n",
    "sys.path.append('../')\n",
    "\n",
    "import random\n",
    "\n",
    "from envs.GridMaps import *\n",
    "from utilities.transitionDatasetGeneration import *"
   ]
  },
  {
   "cell_type": "code",
   "execution_count": 2,
   "metadata": {},
   "outputs": [],
   "source": [
    "maze = maze14x14[\"maze\"]    #Nombre del mapa que se va a utilizar\n",
    "n_epochs = 120000           #Numero de epocas a entrenar cada modelo\n",
    "n_models = 5                #Numero de modelos en cada ensemble\n",
    "hidden_size = 512           #Numero de neuronas en las capas ocultas de los modelos"
   ]
  },
  {
   "cell_type": "code",
   "execution_count": null,
   "metadata": {},
   "outputs": [],
   "source": [
    "#Modo 1\n",
    "train_transitions, val_transitions = transition_generator(maze)\n",
    "\n",
    "mode1_models_arr = []\n",
    "\n",
    "for i in range(n_models):\n",
    "    print(f\"Training model {i+1}...\")\n",
    "\n",
    "    model = ModelTrainer(train_transitions, val_transitions, n_epochs, hidden_size, rand_seed=True)\n",
    "\n",
    "    model.fit()\n",
    "    mode1_models_arr.append(model)"
   ]
  },
  {
   "cell_type": "code",
   "execution_count": null,
   "metadata": {},
   "outputs": [],
   "source": [
    "#Modo 2\n",
    "train_transitions, val_transitions = transition_generator(maze)\n",
    "\n",
    "mode2_models_arr = []\n",
    "\n",
    "for i in range(n_models):    \n",
    "    new_train = train_transitions.copy()\n",
    "    transiciones_a_repetir = random.sample(new_train, int(0.33 * len(new_train)))\n",
    "    new_train.extend(transiciones_a_repetir)\n",
    "\n",
    "    print(f\"Training model {i+1}...\")\n",
    "\n",
    "    model = ModelTrainer(new_train, val_transitions, n_epochs, hidden_size, rand_seed=True)\n",
    "\n",
    "    model.fit()\n",
    "    mode2_models_arr.append(model)"
   ]
  },
  {
   "cell_type": "code",
   "execution_count": null,
   "metadata": {},
   "outputs": [],
   "source": [
    "#Modo 3\n",
    "train_transitions, val_transitions = transition_generator(maze)\n",
    "new_train_transitions, new_val_transitions = transitions_families_generator(train_transitions, val_transitions, n_models)\n",
    "\n",
    "mode3_models_arr = []\n",
    "\n",
    "for i in range(n_models):\n",
    "    print(f\"Training model {i+1}...\")\n",
    "\n",
    "    model = ModelTrainer(new_train_transitions[i], new_val_transitions[i], n_epochs, hidden_size, rand_seed=True)\n",
    "\n",
    "    model.fit()\n",
    "    mode3_models_arr.append(model)"
   ]
  },
  {
   "cell_type": "code",
   "execution_count": null,
   "metadata": {},
   "outputs": [],
   "source": [
    "store_models(mode1_models_arr, \"mode1_models\")\n",
    "store_models(mode2_models_arr, \"mode2_models\")\n",
    "store_models(mode3_models_arr, \"mode3_models\")"
   ]
  }
 ],
 "metadata": {
  "kernelspec": {
   "display_name": "TFG",
   "language": "python",
   "name": "python3"
  },
  "language_info": {
   "codemirror_mode": {
    "name": "ipython",
    "version": 3
   },
   "file_extension": ".py",
   "mimetype": "text/x-python",
   "name": "python",
   "nbconvert_exporter": "python",
   "pygments_lexer": "ipython3",
   "version": "3.10.12"
  }
 },
 "nbformat": 4,
 "nbformat_minor": 2
}
