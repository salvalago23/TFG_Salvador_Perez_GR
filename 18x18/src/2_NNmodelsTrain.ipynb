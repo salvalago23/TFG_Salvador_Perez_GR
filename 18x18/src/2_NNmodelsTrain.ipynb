{
 "cells": [
  {
   "cell_type": "code",
   "execution_count": 1,
   "metadata": {},
   "outputs": [],
   "source": [
    "import torch\n",
    "import torch.nn as nn\n",
    "import torch.optim as optim\n",
    "import numpy as np\n",
    "import matplotlib.pyplot as plt\n",
    "import csv\n",
    "from sklearn.model_selection import train_test_split\n",
    "\n",
    "from envs.createEnvs import createCSVEnv\n",
    "\n",
    "device = torch.device(\"cuda:0\" if torch.cuda.is_available() else \"cpu\")"
   ]
  },
  {
   "cell_type": "code",
   "execution_count": 2,
   "metadata": {},
   "outputs": [],
   "source": [
    "env = createCSVEnv()"
   ]
  },
  {
   "cell_type": "code",
   "execution_count": 3,
   "metadata": {},
   "outputs": [],
   "source": [
    "# Nombre del archivo CSV\n",
    "input_csv = '../data/csv/history14x14.csv'\n",
    "output_csv = '../data/csv/new14x14.csv'\n",
    "\n",
    "# Listas para almacenar los valores de las columnas 's' y 'reward'\n",
    "sy_values = []\n",
    "sx_values = []\n",
    "a_values = []\n",
    "sy1_values = []\n",
    "sx1_values = []\n",
    "reward_values = []"
   ]
  },
  {
   "cell_type": "code",
   "execution_count": 4,
   "metadata": {},
   "outputs": [
    {
     "data": {
      "text/plain": [
       "'# Create a set to store unique rows\\nunique_rows = set()\\n\\n# Leer el archivo CSV y encontrar filas únicas\\nwith open(input_csv, \\'r\\') as csv_file:\\n    csv_reader = csv.reader(csv_file)\\n    header = next(csv_reader)  # Leer la fila de encabezado\\n    output_rows = [header]  # Lista para almacenar las filas de salida, incluida la fila de encabezado\\n\\n    for row in csv_reader:\\n        # Verificar si el valor de la columna \"done\" es igual a \"True\"\\n        if row[7].strip().lower() == \\'true\\':\\n            # Agregar la fila a las filas de salida\\n            output_rows.append(row)\\n        else:\\n            # Eliminar la columna \"step\" (la primera columna) antes de verificar duplicados\\n            row_no_step = row[1:]\\n            # Convertir la fila a una cadena para verificar duplicados\\n            row_str = \",\".join(row_no_step)\\n            # Verificar si la fila ya existe en el conjunto de filas únicas\\n            if row_str not in unique_rows:\\n                unique_rows.add(row_str)\\n                # Agregar la fila a las filas de salida\\n                output_rows.append(row)\\n\\n# Escribir las filas únicas en el archivo CSV de salida\\nwith open(output_csv, \\'w\\', newline=\\'\\') as csv_output:\\n    csv_writer = csv.writer(csv_output)\\n    csv_writer.writerows(output_rows)'"
      ]
     },
     "execution_count": 4,
     "metadata": {},
     "output_type": "execute_result"
    }
   ],
   "source": [
    "\"\"\"# Create a set to store unique rows\n",
    "unique_rows = set()\n",
    "\n",
    "# Leer el archivo CSV y encontrar filas únicas\n",
    "with open(input_csv, 'r') as csv_file:\n",
    "    csv_reader = csv.reader(csv_file)\n",
    "    header = next(csv_reader)  # Leer la fila de encabezado\n",
    "    output_rows = [header]  # Lista para almacenar las filas de salida, incluida la fila de encabezado\n",
    "\n",
    "    for row in csv_reader:\n",
    "        # Verificar si el valor de la columna \"done\" es igual a \"True\"\n",
    "        if row[7].strip().lower() == 'true':\n",
    "            # Agregar la fila a las filas de salida\n",
    "            output_rows.append(row)\n",
    "        else:\n",
    "            # Eliminar la columna \"step\" (la primera columna) antes de verificar duplicados\n",
    "            row_no_step = row[1:]\n",
    "            # Convertir la fila a una cadena para verificar duplicados\n",
    "            row_str = \",\".join(row_no_step)\n",
    "            # Verificar si la fila ya existe en el conjunto de filas únicas\n",
    "            if row_str not in unique_rows:\n",
    "                unique_rows.add(row_str)\n",
    "                # Agregar la fila a las filas de salida\n",
    "                output_rows.append(row)\n",
    "\n",
    "# Escribir las filas únicas en el archivo CSV de salida\n",
    "with open(output_csv, 'w', newline='') as csv_output:\n",
    "    csv_writer = csv.writer(csv_output)\n",
    "    csv_writer.writerows(output_rows)\"\"\""
   ]
  },
  {
   "cell_type": "code",
   "execution_count": 5,
   "metadata": {},
   "outputs": [],
   "source": [
    "row_counts = {}\n",
    "max_duplicates=4\n",
    "\n",
    "# Leer el archivo CSV y encontrar filas únicas\n",
    "with open(input_csv, 'r') as csv_file:\n",
    "    csv_reader = csv.reader(csv_file)\n",
    "    header = next(csv_reader)  # Leer la fila de encabezado\n",
    "    output_rows = [header]  # Lista para almacenar las filas de salida, incluida la fila de encabezado\n",
    "\n",
    "    for row in csv_reader:\n",
    "        # Eliminar la columna \"step\" (la primera columna) antes de verificar duplicados\n",
    "        row_no_step = row[1:]\n",
    "        # Convertir la fila a una cadena para verificar duplicados\n",
    "        row_str = \",\".join(row_no_step)\n",
    "        # Contar cuántas veces aparece la fila\n",
    "        if row_str not in row_counts:\n",
    "            row_counts[row_str] = 1\n",
    "        else:\n",
    "            row_counts[row_str] += 1\n",
    "        # Verificar si la fila aparece menos o igual al número máximo de veces permitidas\n",
    "        if row_counts[row_str] <= max_duplicates:\n",
    "            # Agregar la fila a las filas de salida\n",
    "            output_rows.append(row)\n",
    "\n",
    "# Escribir las filas únicas en el archivo CSV de salida\n",
    "with open(output_csv, 'w', newline='') as csv_output:\n",
    "    csv_writer = csv.writer(csv_output)\n",
    "    csv_writer.writerows(output_rows)"
   ]
  },
  {
   "cell_type": "code",
   "execution_count": 6,
   "metadata": {},
   "outputs": [],
   "source": [
    "# Leer el archivo CSV\n",
    "with open(output_csv, 'r') as csv_file:\n",
    "    csv_reader = csv.reader(csv_file)\n",
    "    next(csv_reader)  # Quitar la primera fila donde están los nombres de las columnas\n",
    "\n",
    "    for row in csv_reader:\n",
    "        step, y, x, action, next_y, next_x, reward, done =  row\n",
    "        sy_values.append(float(y))\n",
    "        sx_values.append(float(x))\n",
    "        a_values.append(float(action))\n",
    "        sy1_values.append(float(next_y))\n",
    "        sx1_values.append(float(next_x))\n",
    "        reward_values.append(float(reward))"
   ]
  },
  {
   "cell_type": "code",
   "execution_count": 7,
   "metadata": {},
   "outputs": [],
   "source": [
    "# Convertir las listas en NumPy arrays\n",
    "sy_array = np.array(sy_values)\n",
    "sx_array = np.array(sx_values)\n",
    "a_array = np.array(a_values)\n",
    "sy1_array = np.array(sy1_values)\n",
    "sx1_array = np.array(sx1_values)\n",
    "reward_array = np.array(reward_values)"
   ]
  },
  {
   "cell_type": "code",
   "execution_count": 8,
   "metadata": {},
   "outputs": [],
   "source": [
    "input_data1 = np.column_stack((sy_array, sx_array, a_array))\n",
    "target_data1 = np.column_stack((sy1_array, sx1_array))\n",
    "input_data2 = input_data1\n",
    "target_data2 = reward_array"
   ]
  },
  {
   "cell_type": "code",
   "execution_count": 9,
   "metadata": {},
   "outputs": [],
   "source": [
    "X_train1, X_test1, y_train1, y_test1 = train_test_split(input_data1, target_data1, test_size=0.2, random_state=42)\n",
    "X_train2, X_test2, y_train2, y_test2 = train_test_split(input_data2, target_data2, test_size=0.2, random_state=42)"
   ]
  },
  {
   "cell_type": "code",
   "execution_count": 10,
   "metadata": {},
   "outputs": [],
   "source": [
    "class NeuralNetwork(nn.Module):\n",
    "    def __init__(self, input_size, fc1_unit, fc2_unit, output_size):\n",
    "        super(NeuralNetwork, self).__init__()\n",
    "        self.fc1 = nn.Linear(input_size, fc1_unit)\n",
    "        self.fc2 = nn.Linear(fc1_unit, fc2_unit)\n",
    "        self.fc3 = nn.Linear(fc2_unit, output_size)\n",
    "\n",
    "    def forward(self, x):\n",
    "        x = torch.relu(self.fc1(x))\n",
    "        x = torch.relu(self.fc2(x))\n",
    "        return self.fc3(x)"
   ]
  },
  {
   "cell_type": "code",
   "execution_count": 11,
   "metadata": {},
   "outputs": [],
   "source": [
    "# Create an instance of the model\n",
    "model1 = NeuralNetwork(3, 256, 128, 2)\n",
    "model2 = NeuralNetwork(3, 64, 64, 1)\n",
    "\n",
    "# Define the loss function and optimizer\n",
    "criterion = nn.MSELoss()\n",
    "optimizer1 = optim.Adam(model1.parameters())\n",
    "optimizer2 = optim.Adam(model2.parameters())"
   ]
  },
  {
   "cell_type": "code",
   "execution_count": 12,
   "metadata": {},
   "outputs": [],
   "source": [
    "# Convert NumPy arrays to PyTorch tensors\n",
    "X_train_tensor1 = torch.tensor(X_train1, dtype=torch.float32)\n",
    "y_train_tensor1 = torch.tensor(y_train1, dtype=torch.float32)\n",
    "X_test_tensor1 = torch.tensor(X_test1, dtype=torch.float32)\n",
    "y_test_tensor1 = torch.tensor(y_test1, dtype=torch.float32)\n",
    "\n",
    "X_train_tensor2 = torch.tensor(X_train2, dtype=torch.float32)\n",
    "y_train_tensor2 = torch.tensor(y_train2, dtype=torch.float32).view(-1, 1)  # Reshape the target tensor\n",
    "X_test_tensor2 = torch.tensor(X_test2, dtype=torch.float32)\n",
    "y_test_tensor2 = torch.tensor(y_test2, dtype=torch.float32).view(-1, 1)  # Reshape the target tensor"
   ]
  },
  {
   "cell_type": "code",
   "execution_count": 13,
   "metadata": {},
   "outputs": [
    {
     "name": "stdout",
     "output_type": "stream",
     "text": [
      "Modelo entrenado!\n"
     ]
    }
   ],
   "source": [
    "num_epochs1 = 500000\n",
    "losses1 = []\n",
    "\n",
    "for epoch in range(num_epochs1):\n",
    "    # Forward pass\n",
    "    outputs = model1(X_train_tensor1)\n",
    "    loss = criterion(outputs, y_train_tensor1)\n",
    "    \n",
    "    # Backpropagation and optimization\n",
    "    optimizer1.zero_grad()\n",
    "    loss.backward()\n",
    "    optimizer1.step()\n",
    "    \n",
    "    losses1.append(loss.item())\n",
    "\n",
    "print(\"Modelo entrenado!\")"
   ]
  },
  {
   "cell_type": "code",
   "execution_count": 14,
   "metadata": {},
   "outputs": [
    {
     "name": "stdout",
     "output_type": "stream",
     "text": [
      "Test loss: 2.2301203443930717e-06\n"
     ]
    }
   ],
   "source": [
    "# Evaluate the model on the test data\n",
    "with torch.no_grad():\n",
    "    test_outputs = model1(X_test_tensor1)\n",
    "    test_loss = criterion(test_outputs, y_test_tensor1)\n",
    "    print(f'Test loss: {test_loss.item()}')"
   ]
  },
  {
   "cell_type": "code",
   "execution_count": 15,
   "metadata": {},
   "outputs": [
    {
     "data": {
      "text/plain": [
       "[<matplotlib.lines.Line2D at 0x235cdef6810>]"
      ]
     },
     "execution_count": 15,
     "metadata": {},
     "output_type": "execute_result"
    },
    {
     "data": {
      "image/png": "[encoded data removed]",
      "text/plain": [
       "<Figure size 640x480 with 1 Axes>"
      ]
     },
     "metadata": {},
     "output_type": "display_data"
    }
   ],
   "source": [
    "# Plot the training loss\n",
    "plt.xlabel(\"# Epoch\")\n",
    "plt.ylabel(\"Loss Magnitude\")\n",
    "plt.plot(losses1[1000:])"
   ]
  },
  {
   "cell_type": "code",
   "execution_count": 16,
   "metadata": {},
   "outputs": [
    {
     "name": "stdout",
     "output_type": "stream",
     "text": [
      "[0, 13, 2]\n",
      "El resultado es [ 0 12]\n",
      "El resultado es [0 13]\n",
      "\n",
      "[0, 13, 3]\n",
      "El resultado es [ 0 13]\n",
      "El resultado es [0 14]\n",
      "\n"
     ]
    },
    {
     "name": "stderr",
     "output_type": "stream",
     "text": [
      "c:\\Users\\el_sa\\anaconda3\\envs\\TFG\\Lib\\site-packages\\gymnasium\\core.py:311: UserWarning: \u001b[33mWARN: env.test to get variables from other wrappers is deprecated and will be removed in v1.0, to get this variable you can do `env.unwrapped.test` for environment variables or `env.get_wrapper_attr('test')` that will search the reminding wrappers.\u001b[0m\n",
      "  logger.warn(\n"
     ]
    }
   ],
   "source": [
    "# Perform predictions\n",
    "grid = np.chararray((14,14), unicode=True)\n",
    "for j in range(14):\n",
    "    for k in range(14):\n",
    "        for i in range(4):\n",
    "            env_result = env.test([j, k, i])\n",
    "            if type(env_result) == str:\n",
    "                grid[j][k] = \"#\"\n",
    "            else:\n",
    "                grid[j][k] = \".\"\n",
    "                test_input = torch.tensor([[float(j), float(k), float(i)]], dtype=torch.float32)\n",
    "                resultado = model1(test_input)\n",
    "                resultado = resultado.detach().numpy()\n",
    "                if not(env_result[0] == round(resultado[0][0]) and env_result[1] == round(resultado[0][1])):\n",
    "                    print([j, k, i])\n",
    "                    print(\"El resultado es \" + str(env_result))\n",
    "                    print(\"El resultado es [\" + str(round(resultado[0][0])) + \" \" + str(round(resultado[0][1])) + \"]\\n\")\n"
   ]
  },
  {
   "cell_type": "code",
   "execution_count": 17,
   "metadata": {},
   "outputs": [],
   "source": [
    "torch.save(model1.state_dict(), '../data/models/modelo_entorno.pt')\n",
    "#El nombre empieza con _ para no sobreescribir los modelos ya creados"
   ]
  },
  {
   "cell_type": "markdown",
   "metadata": {},
   "source": [
    "Red para modelar la función de recompensa:"
   ]
  },
  {
   "cell_type": "code",
   "execution_count": 18,
   "metadata": {},
   "outputs": [
    {
     "name": "stdout",
     "output_type": "stream",
     "text": [
      "Modelo entrenado!\n"
     ]
    }
   ],
   "source": [
    "num_epochs2 = 3000\n",
    "losses2 = []\n",
    "\n",
    "for epoch in range(num_epochs2):\n",
    "    # Forward pass\n",
    "    outputs = model2(X_train_tensor2)\n",
    "    loss = criterion(outputs, y_train_tensor2)\n",
    "    \n",
    "    # Backpropagation and optimization\n",
    "    optimizer2.zero_grad()\n",
    "    loss.backward()\n",
    "    optimizer2.step()\n",
    "    \n",
    "    losses2.append(loss.item())\n",
    "\n",
    "print(\"Modelo entrenado!\")"
   ]
  },
  {
   "cell_type": "code",
   "execution_count": 19,
   "metadata": {},
   "outputs": [
    {
     "name": "stdout",
     "output_type": "stream",
     "text": [
      "Test loss: 1.9952343791374005e-05\n"
     ]
    }
   ],
   "source": [
    "# Evaluate the model on the test data\n",
    "with torch.no_grad():\n",
    "    test_outputs = model2(X_test_tensor2)\n",
    "    test_loss = criterion(test_outputs, y_test_tensor2)\n",
    "    print(f'Test loss: {test_loss.item()}')"
   ]
  },
  {
   "cell_type": "code",
   "execution_count": 20,
   "metadata": {},
   "outputs": [
    {
     "data": {
      "text/plain": [
       "[<matplotlib.lines.Line2D at 0x235cf28dd10>]"
      ]
     },
     "execution_count": 20,
     "metadata": {},
     "output_type": "execute_result"
    },
    {
     "data": {
      "image/png": "[encoded data removed]",
      "text/plain": [
       "<Figure size 640x480 with 1 Axes>"
      ]
     },
     "metadata": {},
     "output_type": "display_data"
    }
   ],
   "source": [
    "# Plot the training loss\n",
    "plt.xlabel(\"# Epoch\")\n",
    "plt.ylabel(\"Loss Magnitude\")\n",
    "plt.plot(losses2)"
   ]
  },
  {
   "cell_type": "code",
   "execution_count": 21,
   "metadata": {},
   "outputs": [
    {
     "name": "stdout",
     "output_type": "stream",
     "text": [
      "[0, 11, 3]\t->\t0.6821 \t-> Redondeo: 1\n",
      "[0, 12, 3]\t->\t0.9941 \t-> Redondeo: 1\n",
      "[0, 13, 3]\t->\t1.1451 \t-> Redondeo: 1\n",
      "[1, 13, 0]\t->\t0.9782 \t-> Redondeo: 1\n"
     ]
    }
   ],
   "source": [
    "# Perform predictions\n",
    "for j in range(14):\n",
    "    for k in range(14):\n",
    "        for i in range(4):\n",
    "            test_input = torch.tensor([[float(j), float(k), float(i)]], dtype=torch.float32)\n",
    "            resultado = model2(test_input)\n",
    "            resultado = resultado.detach().numpy()\n",
    "            #print(\"El vector de entrada [y,x,a] es \", [j, k, i])\n",
    "            #print(\"El resultado es \" + str(resultado[0][0]) + \" \\t-> Redondeo: \" + str(round(resultado[0][0])))\n",
    "            if round(resultado[0][0]) == 1:\n",
    "                print(str([j, k, i]) + \"\\t->\\t\" + str(round(abs(resultado[0][0]), 4)) + \" \\t-> Redondeo: \" + str(round(resultado[0][0])))\n"
   ]
  },
  {
   "cell_type": "code",
   "execution_count": 22,
   "metadata": {},
   "outputs": [],
   "source": [
    "#torch.save(model2.state_dict(), '../data/models/modelo_reward.pt')\n",
    "#El nombre empieza con _ para no sobreescribir los modelos ya creados"
   ]
  }
 ],
 "metadata": {
  "kernelspec": {
   "display_name": "TFGG",
   "language": "python",
   "name": "python3"
  },
  "language_info": {
   "codemirror_mode": {
    "name": "ipython",
    "version": 3
   },
   "file_extension": ".py",
   "mimetype": "text/x-python",
   "name": "python",
   "nbconvert_exporter": "python",
   "pygments_lexer": "ipython3",
   "version": "3.11.5"
  },
  "orig_nbformat": 4
 },
 "nbformat": 4,
 "nbformat_minor": 2
}
