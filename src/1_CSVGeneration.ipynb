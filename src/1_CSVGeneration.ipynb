{
 "cells": [
  {
   "cell_type": "code",
   "execution_count": 1,
   "metadata": {},
   "outputs": [],
   "source": [
    "import sys\n",
    "sys.path.append('../')\n",
    "\n",
    "from envs.CreateEnvs import createCSVEnv\n",
    "import pygame\n",
    "import time"
   ]
  },
  {
   "cell_type": "code",
   "execution_count": 5,
   "metadata": {},
   "outputs": [],
   "source": [
    "first_write = False\n",
    "writing_enabled = False\n",
    "num_executions = 1000\n",
    "\n",
    "shape = \"14x14\"\n",
    "render = True\n",
    "\n",
    "if shape == \"5x5\":\n",
    "    csv_name  = \"history5x5\"\n",
    "elif shape == \"14x14\":\n",
    "    csv_name  = \"history14x14\""
   ]
  },
  {
   "cell_type": "code",
   "execution_count": 6,
   "metadata": {},
   "outputs": [
    {
     "name": "stderr",
     "output_type": "stream",
     "text": [
      "c:\\Users\\el_sa\\anaconda3\\envs\\TFG\\Lib\\site-packages\\gymnasium\\envs\\registration.py:694: UserWarning: \u001b[33mWARN: Overriding environment grid-v0 already in registry.\u001b[0m\n",
      "  logger.warn(f\"Overriding environment {new_spec.id} already in registry.\")\n"
     ]
    }
   ],
   "source": [
    "env = createCSVEnv(shape, render=render)"
   ]
  },
  {
   "cell_type": "code",
   "execution_count": 7,
   "metadata": {},
   "outputs": [
    {
     "ename": "KeyboardInterrupt",
     "evalue": "",
     "output_type": "error",
     "traceback": [
      "\u001b[1;31m---------------------------------------------------------------------------\u001b[0m",
      "\u001b[1;31mKeyboardInterrupt\u001b[0m                         Traceback (most recent call last)",
      "Cell \u001b[1;32mIn[7], line 26\u001b[0m\n\u001b[0;32m     24\u001b[0m             \u001b[38;5;28;01mif\u001b[39;00m render:\n\u001b[0;32m     25\u001b[0m                 env\u001b[38;5;241m.\u001b[39mrender()\n\u001b[1;32m---> 26\u001b[0m                 \u001b[43mpygame\u001b[49m\u001b[38;5;241;43m.\u001b[39;49m\u001b[43mtime\u001b[49m\u001b[38;5;241;43m.\u001b[39;49m\u001b[43mwait\u001b[49m\u001b[43m(\u001b[49m\u001b[38;5;241;43m50\u001b[39;49m\u001b[43m)\u001b[49m\n\u001b[0;32m     28\u001b[0m         \u001b[38;5;28mprint\u001b[39m(\u001b[38;5;124m\"\u001b[39m\u001b[38;5;124mAgente\u001b[39m\u001b[38;5;124m\"\u001b[39m, i\u001b[38;5;241m+\u001b[39m\u001b[38;5;241m1\u001b[39m, \u001b[38;5;124m\"\u001b[39m\u001b[38;5;124mterminado en\u001b[39m\u001b[38;5;124m\"\u001b[39m, t, \u001b[38;5;124m\"\u001b[39m\u001b[38;5;124mpasos\u001b[39m\u001b[38;5;124m\"\u001b[39m)\n\u001b[0;32m     30\u001b[0m \u001b[38;5;28;01mif\u001b[39;00m render: env\u001b[38;5;241m.\u001b[39mclose()\n",
      "\u001b[1;31mKeyboardInterrupt\u001b[0m: "
     ]
    }
   ],
   "source": [
    "with open(f\"../data/csv/\" + csv_name + \".csv\", 'a') as f:\n",
    "    if first_write and writing_enabled:\n",
    "        f.write(f\"step,y,x,action,next_y,next_x,reward,done\\n\")\n",
    "    \n",
    "    start_time = time.time()\n",
    "\n",
    "    for i in range(num_executions):\n",
    "        env.unwrapped.randomize_start_pos()\n",
    "        obs, _ = env.reset()\n",
    "        if render: env.render()\n",
    "\n",
    "        t = 0\n",
    "        done = False\n",
    "        while not done:\n",
    "            if render: pygame.event.get()\n",
    "            action = env.action_space.sample()  # Random action selection\n",
    "            prev_state = [obs[0], obs[1], action]\n",
    "            obs, rew, done, _, _ = env.step(action)\n",
    "\n",
    "            if writing_enabled:\n",
    "                f.write(f\"{t},{prev_state[0]},{prev_state[1]},{prev_state[2]},{obs[0]},{obs[1]},{rew},{done}\\n\")\n",
    "        \n",
    "            t += 1\n",
    "            if render:\n",
    "                env.render()\n",
    "                pygame.time.wait(50)\n",
    "            \n",
    "        print(\"Agente\", i+1, \"terminado en\", t, \"pasos\")\n",
    "\n",
    "if render: env.close()\n",
    "\n",
    "end_time = time.time()\n",
    "elapsed_time = end_time - start_time\n",
    "print(f\"La ejecución de {num_executions} episodios ha tardado: {elapsed_time:.2f} segundos\")"
   ]
  }
 ],
 "metadata": {
  "kernelspec": {
   "display_name": "TFG",
   "language": "python",
   "name": "python3"
  },
  "language_info": {
   "codemirror_mode": {
    "name": "ipython",
    "version": 3
   },
   "file_extension": ".py",
   "mimetype": "text/x-python",
   "name": "python",
   "nbconvert_exporter": "python",
   "pygments_lexer": "ipython3",
   "version": "3.11.5"
  }
 },
 "nbformat": 4,
 "nbformat_minor": 2
}
