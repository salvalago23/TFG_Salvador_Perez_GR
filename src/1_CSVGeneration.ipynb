{
 "cells": [
  {
   "cell_type": "code",
   "execution_count": 1,
   "metadata": {},
   "outputs": [],
   "source": [
    "import sys\n",
    "sys.path.append('../')\n",
    "\n",
    "from envs.CreateEnvs import createCSVEnv\n",
    "import pygame\n",
    "import time"
   ]
  },
  {
   "cell_type": "code",
   "execution_count": 2,
   "metadata": {},
   "outputs": [],
   "source": [
    "first_write = False                 #Si es la primera vez que se escribe en el csv, se pone a 'True' para anhadir una primera fila a modo de cabecera con 'step,y,x,action,next_y,next_x,reward,done'\n",
    "writing_enabled = False             #'True' para guardar las transiciones de los experimentos en el csv\n",
    "num_executions = 1000               #Numero de episodios\n",
    "\n",
    "shape = \"14x14\"                     #Tamanho del grid '5x5' o '14x14'\n",
    "render = False                      #'True' si se quieren visualizar los episodios en una ventana independiente usando pygame\n",
    "\n",
    "if shape == \"5x5\":\n",
    "    csv_name  = \"history5x5\"\n",
    "elif shape == \"14x14\":\n",
    "    csv_name  = \"history14x14\""
   ]
  },
  {
   "cell_type": "code",
   "execution_count": 3,
   "metadata": {},
   "outputs": [],
   "source": [
    "env = createCSVEnv(shape, render=render)"
   ]
  },
  {
   "cell_type": "code",
   "execution_count": 4,
   "metadata": {},
   "outputs": [
    {
     "ename": "",
     "evalue": "",
     "output_type": "error",
     "traceback": [
      "\u001b[1;31mThe Kernel crashed while executing code in the the current cell or a previous cell. Please review the code in the cell(s) to identify a possible cause of the failure. Click <a href='https://aka.ms/vscodeJupyterKernelCrash'>here</a> for more info. View Jupyter <a href='command:jupyter.viewOutput'>log</a> for further details."
     ]
    }
   ],
   "source": [
    "with open(f\"../data/csv/\" + csv_name + \".csv\", 'a') as f:\n",
    "    if first_write and writing_enabled:\n",
    "        f.write(f\"step,y,x,action,next_y,next_x,reward,done\\n\")\n",
    "    \n",
    "    start_time = time.time()\n",
    "\n",
    "    for i in range(num_executions):\n",
    "        env.unwrapped.randomize_start_pos()\n",
    "        obs, _ = env.reset()\n",
    "        if render: env.render()\n",
    "\n",
    "        t = 0\n",
    "        done = False\n",
    "        while not done:\n",
    "            input()\n",
    "            if render: pygame.event.get()\n",
    "            action = env.action_space.sample()  # Random action selection\n",
    "            prev_state = [obs[0], obs[1], action]\n",
    "            obs, rew, done, _, _ = env.step(action)\n",
    "\n",
    "            if writing_enabled:\n",
    "                f.write(f\"{t},{prev_state[0]},{prev_state[1]},{prev_state[2]},{obs[0]},{obs[1]},{rew},{done}\\n\")\n",
    "        \n",
    "            t += 1\n",
    "            if render:\n",
    "                env.render()\n",
    "                pygame.time.wait(50)\n",
    "            \n",
    "        print(\"Agente\", i+1, \"terminado en\", t, \"pasos\")\n",
    "\n",
    "if render: env.close()\n",
    "\n",
    "end_time = time.time()\n",
    "elapsed_time = end_time - start_time\n",
    "print(f\"La ejecución de {num_executions} episodios ha tardado: {elapsed_time:.2f} segundos\")"
   ]
  }
 ],
 "metadata": {
  "kernelspec": {
   "display_name": "TFG",
   "language": "python",
   "name": "python3"
  },
  "language_info": {
   "codemirror_mode": {
    "name": "ipython",
    "version": 3
   },
   "file_extension": ".py",
   "mimetype": "text/x-python",
   "name": "python",
   "nbconvert_exporter": "python",
   "pygments_lexer": "ipython3",
   "version": "3.10.12"
  }
 },
 "nbformat": 4,
 "nbformat_minor": 2
}
