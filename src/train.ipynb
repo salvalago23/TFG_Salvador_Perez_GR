{
 "cells": [
  {
   "cell_type": "code",
   "execution_count": 6,
   "metadata": {},
   "outputs": [],
   "source": [
    "import tensorflow as tf\n",
    "import keras\n",
    "import numpy as np\n",
    "import matplotlib.pyplot as plt\n",
    "import csv\n",
    "from sklearn.model_selection import train_test_split"
   ]
  },
  {
   "cell_type": "code",
   "execution_count": 7,
   "metadata": {},
   "outputs": [],
   "source": [
    "# Nombre del archivo CSV\n",
    "path_csv = '../data/csv/history.csv'\n",
    "\n",
    "# Listas para almacenar los valores de las columnas 's' y 'reward'\n",
    "sy_values = []\n",
    "sx_values = []\n",
    "a_values = []\n",
    "sy1_values = []\n",
    "sx1_values = []\n",
    "reward_values = []"
   ]
  },
  {
   "cell_type": "code",
   "execution_count": 8,
   "metadata": {},
   "outputs": [],
   "source": [
    "# Leer el archivo CSV\n",
    "with open(path_csv, 'r') as csv_file:\n",
    "    csv_reader = csv.reader(csv_file)\n",
    "    next(csv_reader)  # Quitar la primera fila donde están los nombres de las columnas\n",
    "\n",
    "    for row in csv_reader:\n",
    "        step, y, x, action, next_y, next_x, reward, done =  row\n",
    "        sy_values.append(float(y))\n",
    "        sx_values.append(float(x))\n",
    "        a_values.append(float(action))\n",
    "        sy1_values.append(float(next_y))\n",
    "        sx1_values.append(float(next_x))\n",
    "        reward_values.append(float(reward))"
   ]
  },
  {
   "cell_type": "code",
   "execution_count": 9,
   "metadata": {},
   "outputs": [],
   "source": [
    "# Convertir las listas en NumPy arrays\n",
    "sy_array = np.array(sy_values)\n",
    "sx_array = np.array(sx_values)\n",
    "a_array = np.array(a_values)\n",
    "sy1_array = np.array(sy1_values)\n",
    "sx1_array = np.array(sx1_values)\n",
    "reward_array = np.array(reward_values)"
   ]
  },
  {
   "cell_type": "code",
   "execution_count": 10,
   "metadata": {},
   "outputs": [],
   "source": [
    "input_data1 = np.column_stack((sy_array, sx_array, a_array))\n",
    "target_data1 = np.column_stack((sy1_array, sx1_array))\n",
    "input_data2 = input_data1\n",
    "target_data2 = reward_array"
   ]
  },
  {
   "cell_type": "code",
   "execution_count": 11,
   "metadata": {},
   "outputs": [],
   "source": [
    "X_train1, X_test1, y_train1, y_test1 = train_test_split(input_data1, target_data1, test_size=0.2, random_state=42)\n",
    "X_train2, X_test2, y_train2, y_test2 = train_test_split(input_data2, target_data2, test_size=0.2, random_state=42)"
   ]
  },
  {
   "cell_type": "code",
   "execution_count": 15,
   "metadata": {},
   "outputs": [],
   "source": [
    "oculta1 = keras.layers.Dense(units=48, input_shape=(3,), activation='relu')\n",
    "oculta2 = keras.layers.Dense(units=100, activation='relu')\n",
    "oculta3 = keras.layers.Dense(units=50, activation='relu')\n",
    "salida1 = keras.layers.Dense(units=2)\n",
    "salida2 = keras.layers.Dense(units=1)\n",
    "\n",
    "modelo1 = keras.Sequential([oculta1, salida1])\n",
    "modelo2 = keras.Sequential([oculta1, salida2])\n",
    "\n",
    "modelo1.compile(optimizer='adam', loss='mean_squared_error')\n",
    "modelo2.compile(optimizer='adam', loss='mean_squared_error')"
   ]
  },
  {
   "cell_type": "code",
   "execution_count": 16,
   "metadata": {},
   "outputs": [
    {
     "name": "stdout",
     "output_type": "stream",
     "text": [
      "Modelo entrenado!\n"
     ]
    }
   ],
   "source": [
    "historial1 = modelo1.fit(X_train1, y_train1, epochs=50, batch_size=32, verbose=False, validation_data=(X_test1, y_test1))\n",
    "print(\"Modelo entrenado!\")"
   ]
  },
  {
   "cell_type": "code",
   "execution_count": 17,
   "metadata": {},
   "outputs": [
    {
     "name": "stdout",
     "output_type": "stream",
     "text": [
      "182/182 [==============================] - 0s 606us/step - loss: 0.0070\n",
      "Test loss: 0.007030220702290535\n"
     ]
    }
   ],
   "source": [
    "test_loss1 = modelo1.evaluate(X_test1, y_test1)\n",
    "print(f'Test loss: {test_loss1}')"
   ]
  },
  {
   "cell_type": "code",
   "execution_count": 18,
   "metadata": {},
   "outputs": [
    {
     "data": {
      "text/plain": [
       "[<matplotlib.lines.Line2D at 0x148e843a550>]"
      ]
     },
     "execution_count": 18,
     "metadata": {},
     "output_type": "execute_result"
    },
    {
     "data": {
      "image/png": "[encoded data removed]",
      "text/plain": [
       "<Figure size 640x480 with 1 Axes>"
      ]
     },
     "metadata": {},
     "output_type": "display_data"
    }
   ],
   "source": [
    "plt.xlabel(\"# Epoca\")\n",
    "plt.ylabel(\"Magnitud de pérdida\")\n",
    "plt.plot(historial1.history[\"loss\"])"
   ]
  },
  {
   "cell_type": "code",
   "execution_count": 26,
   "metadata": {},
   "outputs": [],
   "source": [
    "modelo1.save('../data/models/_modelo_entorno.h5')\n",
    "#El nombre empieza con _ para no sobreescribir los modelos ya creados"
   ]
  },
  {
   "cell_type": "code",
   "execution_count": 20,
   "metadata": {},
   "outputs": [
    {
     "name": "stdout",
     "output_type": "stream",
     "text": [
      "1/1 [==============================] - 0s 74ms/step\n",
      "El vector de entrada [y,x,a] es  [4, 0, 0]\n",
      "El resultado es [[ 2.9441705  -0.01366308]]-> Redondeo:3,0\n",
      "1/1 [==============================] - 0s 14ms/step\n",
      "El vector de entrada [y,x,a] es  [4, 0, 1]\n",
      "El resultado es [[ 4.051264   -0.03094137]]-> Redondeo:4,0\n",
      "1/1 [==============================] - 0s 14ms/step\n",
      "El vector de entrada [y,x,a] es  [4, 0, 2]\n",
      "El resultado es [[ 3.9791193  -0.04658288]]-> Redondeo:4,0\n",
      "1/1 [==============================] - 0s 14ms/step\n",
      "El vector de entrada [y,x,a] es  [4, 0, 3]\n",
      "El resultado es [[3.9895802  0.99654084]]-> Redondeo:4,1\n",
      "1/1 [==============================] - 0s 13ms/step\n",
      "El vector de entrada [y,x,a] es  [4, 1, 0]\n",
      "El resultado es [[2.946196   0.99098015]]-> Redondeo:3,1\n",
      "1/1 [==============================] - 0s 13ms/step\n",
      "El vector de entrada [y,x,a] es  [4, 1, 1]\n",
      "El resultado es [[4.036234  0.9667385]]-> Redondeo:4,1\n",
      "1/1 [==============================] - 0s 12ms/step\n",
      "El vector de entrada [y,x,a] es  [4, 1, 2]\n",
      "El resultado es [[4.0323963  0.01064424]]-> Redondeo:4,0\n",
      "1/1 [==============================] - 0s 13ms/step\n",
      "El vector de entrada [y,x,a] es  [4, 1, 3]\n",
      "El resultado es [[3.9875722  0.96930355]]-> Redondeo:4,1\n"
     ]
    }
   ],
   "source": [
    "for k in range(2):\n",
    "    for i in range(4):\n",
    "        #print(\"Hagamos una predicción!\")\n",
    "        test_input = np.array([[4,k,i]])\n",
    "        resultado = modelo1.predict(test_input)\n",
    "        print(\"El vector de entrada [y,x,a] es \",[4,k,i])\n",
    "        print(\"El resultado es \" + str(resultado) + \"-> Redondeo:\" + str(round(resultado[0][0]))+ ',' + str(round(resultado[0][1])))\n"
   ]
  },
  {
   "cell_type": "markdown",
   "metadata": {},
   "source": [
    "Red para modelar la función de recompensa:"
   ]
  },
  {
   "cell_type": "code",
   "execution_count": 21,
   "metadata": {},
   "outputs": [
    {
     "name": "stdout",
     "output_type": "stream",
     "text": [
      "Modelo entrenado!\n"
     ]
    }
   ],
   "source": [
    "historial2 = modelo2.fit(X_train2, y_train2, epochs=20, batch_size=32, verbose=False, validation_data=(X_test2, y_test2))\n",
    "print(\"Modelo entrenado!\")"
   ]
  },
  {
   "cell_type": "code",
   "execution_count": 22,
   "metadata": {},
   "outputs": [
    {
     "name": "stdout",
     "output_type": "stream",
     "text": [
      "182/182 [==============================] - 0s 730us/step - loss: 0.0015\n",
      "Test loss: 0.0015283678658306599\n"
     ]
    }
   ],
   "source": [
    "test_loss2 = modelo2.evaluate(X_test2, y_test2)\n",
    "print(f'Test loss: {test_loss2}')"
   ]
  },
  {
   "cell_type": "code",
   "execution_count": 23,
   "metadata": {},
   "outputs": [
    {
     "data": {
      "text/plain": [
       "[<matplotlib.lines.Line2D at 0x148e6220b50>]"
      ]
     },
     "execution_count": 23,
     "metadata": {},
     "output_type": "execute_result"
    },
    {
     "data": {
      "image/png": "[encoded data removed]",
      "text/plain": [
       "<Figure size 640x480 with 1 Axes>"
      ]
     },
     "metadata": {},
     "output_type": "display_data"
    }
   ],
   "source": [
    "plt.xlabel(\"# Epoca\")\n",
    "plt.ylabel(\"Magnitud de pérdida\")\n",
    "plt.plot(historial2.history[\"loss\"])"
   ]
  },
  {
   "cell_type": "code",
   "execution_count": 24,
   "metadata": {},
   "outputs": [
    {
     "name": "stdout",
     "output_type": "stream",
     "text": [
      "1/1 [==============================] - 0s 49ms/step\n",
      "El vector de entrada [y,x,a] es  [1, 3, 0]\n",
      "El resultado es [0.21886712]-> Redondeo:0\n",
      "1/1 [==============================] - 0s 14ms/step\n",
      "El vector de entrada [y,x,a] es  [1, 3, 1]\n",
      "El resultado es [-0.008132]-> Redondeo:0\n",
      "1/1 [==============================] - 0s 15ms/step\n",
      "El vector de entrada [y,x,a] es  [1, 3, 2]\n",
      "El resultado es [0.01215313]-> Redondeo:0\n",
      "1/1 [==============================] - 0s 15ms/step\n",
      "El vector de entrada [y,x,a] es  [1, 3, 3]\n",
      "El resultado es [0.04398866]-> Redondeo:0\n",
      "1/1 [==============================] - 0s 15ms/step\n",
      "El vector de entrada [y,x,a] es  [1, 4, 0]\n",
      "El resultado es [0.55599636]-> Redondeo:1\n",
      "1/1 [==============================] - 0s 14ms/step\n",
      "El vector de entrada [y,x,a] es  [1, 4, 1]\n",
      "El resultado es [0.04365476]-> Redondeo:0\n",
      "1/1 [==============================] - 0s 14ms/step\n",
      "El vector de entrada [y,x,a] es  [1, 4, 2]\n",
      "El resultado es [-0.01184087]-> Redondeo:0\n",
      "1/1 [==============================] - 0s 14ms/step\n",
      "El vector de entrada [y,x,a] es  [1, 4, 3]\n",
      "El resultado es [0.02584413]-> Redondeo:0\n"
     ]
    }
   ],
   "source": [
    "for k in range(3,5):\n",
    "    for i in range(4):\n",
    "        #print(\"Hagamos una predicción!\")\n",
    "        test_input = np.array([[1,k,i]])\n",
    "        resultado = modelo2.predict(test_input)\n",
    "        print(\"El vector de entrada [y,x,a] es \",[1,k,i])\n",
    "        print(\"El resultado es \" + str(resultado[0]) + \"-> Redondeo:\" + str(round(resultado[0][0])))"
   ]
  },
  {
   "cell_type": "code",
   "execution_count": 25,
   "metadata": {},
   "outputs": [],
   "source": [
    "modelo2.save('../data/models/_modelo_reward.h5')\n",
    "#El nombre empieza con _ para no sobreescribir los modelos ya creados"
   ]
  }
 ],
 "metadata": {
  "kernelspec": {
   "display_name": "TFGG",
   "language": "python",
   "name": "python3"
  },
  "language_info": {
   "codemirror_mode": {
    "name": "ipython",
    "version": 3
   },
   "file_extension": ".py",
   "mimetype": "text/x-python",
   "name": "python",
   "nbconvert_exporter": "python",
   "pygments_lexer": "ipython3",
   "version": "3.8.18"
  },
  "orig_nbformat": 4
 },
 "nbformat": 4,
 "nbformat_minor": 2
}
