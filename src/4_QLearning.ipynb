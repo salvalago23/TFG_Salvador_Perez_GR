{
  "cells": [
    {
      "cell_type": "code",
      "execution_count": 1,
      "metadata": {
        "collapsed": false
      },
      "outputs": [],
      "source": [
        "%matplotlib inline"
      ]
    },
    {
      "cell_type": "code",
      "execution_count": 2,
      "metadata": {
        "collapsed": false
      },
      "outputs": [],
      "source": [
        "from __future__ import annotations\n",
        "\n",
        "from collections import defaultdict\n",
        "\n",
        "import matplotlib.pyplot as plt\n",
        "import numpy as np\n",
        "import seaborn as sns\n",
        "from matplotlib.patches import Patch\n",
        "from tqdm import tqdm\n",
        "\n",
        "import gymnasium as gym"
      ]
    },
    {
      "cell_type": "code",
      "execution_count": 3,
      "metadata": {},
      "outputs": [
        {
          "name": "stdout",
          "output_type": "stream",
          "text": [
            "Loading models...\n",
            "Models loaded\n"
          ]
        }
      ],
      "source": [
        "from envs.createEnvs import createNNEnv\n",
        "\n",
        "env = createNNEnv()"
      ]
    },
    {
      "cell_type": "code",
      "execution_count": 4,
      "metadata": {
        "collapsed": false
      },
      "outputs": [
        {
          "name": "stdout",
          "output_type": "stream",
          "text": [
            "Initial observation: [4 0]\n"
          ]
        }
      ],
      "source": [
        "# reset the environment to get the first observation\n",
        "done = False\n",
        "observation, _ = env.reset()\n",
        "\n",
        "print(f'Initial observation: {observation}')"
      ]
    },
    {
      "cell_type": "code",
      "execution_count": 5,
      "metadata": {
        "collapsed": false
      },
      "outputs": [
        {
          "name": "stdout",
          "output_type": "stream",
          "text": [
            "[4 0]\n"
          ]
        }
      ],
      "source": [
        "action = env.action_space.sample()\n",
        "\n",
        "# execute the action in the environment and receive info\n",
        "observation, reward, terminated, _, _ = env.step(action)\n",
        "\n",
        "print(observation)\n"
      ]
    },
    {
      "cell_type": "code",
      "execution_count": 6,
      "metadata": {
        "collapsed": false
      },
      "outputs": [],
      "source": [
        "class GridWorldNNAgent:\n",
        "    def __init__(\n",
        "        self,\n",
        "        learning_rate: float,\n",
        "        initial_epsilon: float,\n",
        "        epsilon_decay: float,\n",
        "        final_epsilon: float,\n",
        "        discount_factor: float = 0.95,\n",
        "    ):\n",
        "        \"\"\"Initialize a Reinforcement Learning agent with an empty dictionary\n",
        "        of state-action values (q_values), a learning rate and an epsilon.\n",
        "\n",
        "        Args:\n",
        "            learning_rate: The learning rate\n",
        "            initial_epsilon: The initial epsilon value\n",
        "            epsilon_decay: The decay for epsilon\n",
        "            final_epsilon: The final epsilon value\n",
        "            discount_factor: The discount factor for computing the Q-value\n",
        "        \"\"\"\n",
        "        self.q_values = defaultdict(lambda: np.zeros(env.action_space.n))\n",
        "\n",
        "        self.lr = learning_rate\n",
        "        self.discount_factor = discount_factor\n",
        "\n",
        "        self.epsilon = initial_epsilon\n",
        "        self.epsilon_decay = epsilon_decay\n",
        "        self.final_epsilon = final_epsilon\n",
        "\n",
        "        self.training_error = []\n",
        "\n",
        "    def get_action(self, obs: tuple[int, int]) -> int:\n",
        "        \"\"\"\n",
        "        Returns the best action with probability (1 - epsilon)\n",
        "        otherwise a random action with probability epsilon to ensure exploration.\n",
        "        \"\"\"\n",
        "        # with probability epsilon return a random action to explore the environment\n",
        "        if np.random.random() < self.epsilon:\n",
        "            return env.action_space.sample()\n",
        "\n",
        "        # with probability (1 - epsilon) act greedily (exploit)\n",
        "        else:\n",
        "            return int(np.argmax(self.q_values[obs]))\n",
        "\n",
        "    def update(\n",
        "        self,\n",
        "        obs: tuple[int, int],\n",
        "        action: int,\n",
        "        reward: float,\n",
        "        terminated: bool,\n",
        "        next_obs: tuple[int, int],\n",
        "    ):\n",
        "        \"\"\"Updates the Q-value of an action.\"\"\"\n",
        "        future_q_value = (not terminated) * np.max(self.q_values[next_obs])\n",
        "        temporal_difference = (\n",
        "            reward + self.discount_factor * future_q_value - self.q_values[obs][action]\n",
        "        )\n",
        "\n",
        "        self.q_values[obs][action] = (\n",
        "            self.q_values[obs][action] + self.lr * temporal_difference\n",
        "        )\n",
        "        self.training_error.append(temporal_difference)\n",
        "\n",
        "    def decay_epsilon(self):\n",
        "        self.epsilon = max(self.final_epsilon, self.epsilon - self.epsilon_decay)"
      ]
    },
    {
      "cell_type": "code",
      "execution_count": 7,
      "metadata": {
        "collapsed": false
      },
      "outputs": [],
      "source": [
        "# hyperparameters\n",
        "learning_rate = 0.02\n",
        "n_episodes = 50000\n",
        "start_epsilon = 1.0\n",
        "epsilon_decay = start_epsilon / (n_episodes / 2)  # reduce the exploration over time\n",
        "final_epsilon = 0.1\n",
        "\n",
        "agent = GridWorldNNAgent(\n",
        "    learning_rate=learning_rate,\n",
        "    initial_epsilon=start_epsilon,\n",
        "    epsilon_decay=epsilon_decay,\n",
        "    final_epsilon=final_epsilon,\n",
        ")"
      ]
    },
    {
      "cell_type": "code",
      "execution_count": 8,
      "metadata": {
        "collapsed": false
      },
      "outputs": [
        {
          "name": "stderr",
          "output_type": "stream",
          "text": [
            "100%|██████████| 50000/50000 [02:58<00:00, 279.34it/s]\n"
          ]
        }
      ],
      "source": [
        "env = gym.wrappers.RecordEpisodeStatistics(env, deque_size=n_episodes)\n",
        "\n",
        "for episode in tqdm(range(n_episodes)):\n",
        "    obs, _ = env.reset()\n",
        "    obs = tuple(observation)\n",
        "\n",
        "    done = False\n",
        "    # play one episode\n",
        "    while not done:\n",
        "        action = agent.get_action(obs)\n",
        "        next_obs, reward, terminated, _, _ = env.step(action)\n",
        "        next_obs = tuple(next_obs)\n",
        "\n",
        "        # update the agent\n",
        "        agent.update(obs, action, reward, terminated, next_obs)\n",
        "\n",
        "        # update if the environment is done and the current obs\n",
        "        done = terminated\n",
        "        obs = next_obs\n",
        "\n",
        "    agent.decay_epsilon()"
      ]
    },
    {
      "cell_type": "markdown",
      "metadata": {},
      "source": [
        "## Visualizing the training\n",
        "\n",
        "\n"
      ]
    },
    {
      "cell_type": "code",
      "execution_count": 14,
      "metadata": {
        "collapsed": false
      },
      "outputs": [
        {
          "data": {
            "image/png": "[encoded data removed]",
            "text/plain": [
              "<Figure size 1200x500 with 3 Axes>"
            ]
          },
          "metadata": {},
          "output_type": "display_data"
        }
      ],
      "source": [
        "rolling_length = 500\n",
        "fig, axs = plt.subplots(ncols=3, figsize=(12, 5))\n",
        "axs[0].set_title(\"Episode rewards\")\n",
        "# compute and assign a rolling average of the data to provide a smoother graph\n",
        "reward_moving_average = (\n",
        "    np.convolve(\n",
        "        np.array(env.return_queue).flatten(), np.ones(rolling_length), mode=\"valid\"\n",
        "    )\n",
        "    / rolling_length\n",
        ")\n",
        "axs[0].plot(range(len(reward_moving_average)), reward_moving_average)\n",
        "axs[1].set_title(\"Episode lengths\")\n",
        "\n",
        "# Add a red line at y = 9 to the right plot\n",
        "axs[1].axhline(y=9, color='red', linestyle='--', label='y = 9')\n",
        "\n",
        "length_moving_average = (\n",
        "    np.convolve(\n",
        "        np.array(env.length_queue).flatten(), np.ones(rolling_length), mode=\"same\"\n",
        "    )\n",
        "    / rolling_length\n",
        ")\n",
        "\n",
        "axs[1].plot(range(len(length_moving_average)), length_moving_average)\n",
        "axs[2].set_title(\"Training Error\")\n",
        "training_error_moving_average = (\n",
        "    np.convolve(np.array(agent.training_error), np.ones(rolling_length), mode=\"same\")\n",
        "    / rolling_length\n",
        ")\n",
        "axs[2].plot(range(len(training_error_moving_average)), training_error_moving_average)\n",
        "plt.tight_layout()\n",
        "plt.show()"
      ]
    },
    {
      "cell_type": "markdown",
      "metadata": {},
      "source": [
        "## Visualising the policy\n",
        "\n"
      ]
    },
    {
      "cell_type": "code",
      "execution_count": 15,
      "metadata": {
        "collapsed": false
      },
      "outputs": [
        {
          "data": {
            "image/png": "[encoded data removed]",
            "text/plain": [
              "<Figure size 1200x480 with 1 Axes>"
            ]
          },
          "metadata": {},
          "output_type": "display_data"
        },
        {
          "data": {
            "image/png": "[encoded data removed]",
            "text/plain": [
              "<Figure size 640x480 with 1 Axes>"
            ]
          },
          "metadata": {},
          "output_type": "display_data"
        }
      ],
      "source": [
        "def create_grids(agent):\n",
        "    \"\"\"Create value and policy grid given an agent.\"\"\"\n",
        "    # convert our state-action values to state values\n",
        "    # and build a policy dictionary that maps observations to actions\n",
        "    state_value = defaultdict(float)\n",
        "    policy = defaultdict(int)\n",
        "\n",
        "    for obs, action_values in agent.q_values.items():\n",
        "        state_value[obs] = float(np.max(action_values))\n",
        "        policy[obs] = int(np.argmax(action_values))\n",
        "\n",
        "    # create a grid for the state values\n",
        "    value_grid = np.zeros((5, 5))\n",
        "    for obs, value in state_value.items():\n",
        "        value_grid[obs] = value\n",
        "    #print(value_grid)\n",
        "\n",
        "    # create a grid for the policy. In each state we should show the action that has the highest int(np.argmax(action_values))\n",
        "    policy_grid = np.zeros((5, 5))\n",
        "    for obs, action in policy.items():\n",
        "        policy_grid[obs] = action\n",
        "    #print(policy_grid)\n",
        "\n",
        "    #I want to turn policy grid into a grid made up of strings. I want to replace the numbers with arrows that represent the action\n",
        "    # ACtion 0 = up, 1 = down, 2 = left, 3 = right. The grid must be a new grid made up of strings, because i cant cast a string to a float\n",
        "    string_policy_grid = np.chararray((5,5), unicode=True)\n",
        "    for i in range(5):\n",
        "        for j in range(5):\n",
        "            #Grid positions [0,2], [1,2], [3,2], [4,2] are walls, so we dont want to show an action for them, instead show an X. \n",
        "            #We also dont want to show an action for the goal, so we show a G in the grid position [0,4]\n",
        "            if j == 2 and (i == 0 or i == 1 or i == 3 or i == 4):\n",
        "                string_policy_grid[i][j] = 'X'\n",
        "            elif i == 0 and j == 4:\n",
        "                string_policy_grid[i][j] = 'G'\n",
        "            elif policy_grid[i][j] == 0:\n",
        "                string_policy_grid[i][j] = '↑'\n",
        "            elif policy_grid[i][j] == 1:\n",
        "                string_policy_grid[i][j] = '↓'\n",
        "            elif policy_grid[i][j] == 2:\n",
        "                string_policy_grid[i][j] = '←'\n",
        "            elif policy_grid[i][j] == 3:\n",
        "                string_policy_grid[i][j] = '→'\n",
        "            else:\n",
        "                string_policy_grid[i][j] = 'X'\n",
        "    #print(string_policy_grid)\n",
        "\n",
        "    return value_grid, policy_grid, string_policy_grid\n",
        "\n",
        "\n",
        "def create_plots(value_grid, policy_grid, title=\"\"):\n",
        "    \"\"\"Creates a plot using a value and policy grid.\"\"\"\n",
        "    # create a new figure with 2 subplots (left: state values, right: policy)\n",
        "    fig = plt.figure(figsize=plt.figaspect(0.4))\n",
        "    fig.suptitle(title, fontsize=16)\n",
        "\n",
        "\n",
        "    # add a legend\n",
        "    legend_elements = [\n",
        "        Patch(facecolor=\"gray\", edgecolor=\"black\", label=\"Wall\"),\n",
        "        Patch(facecolor=\"red\", edgecolor=\"black\", label=\"Goal\"),\n",
        "        Patch(facecolor=\"blue\", edgecolor=\"black\", label=\"Up\"),\n",
        "        Patch(facecolor=\"lightgreen\", edgecolor=\"black\", label=\"Down\"),\n",
        "        Patch(facecolor=\"yellow\", edgecolor=\"black\", label=\"Left\"),\n",
        "        Patch(facecolor=\"orange\", edgecolor=\"black\", label=\"Right\"),\n",
        "    ]\n",
        "\n",
        "    # plot the policy\n",
        "    fig.add_subplot(1, 2, 2)\n",
        "    ax2 = sns.heatmap(policy_grid, linewidth=0, annot=True, cmap=\"Accent_r\", cbar=False)\n",
        "\n",
        "    ax2.set_title(f\"Policy: {title}\")\n",
        "    ax2.set_xlabel(\"\")\n",
        "    ax2.set_ylabel(\"\")\n",
        "    ax2.set_xticklabels(range(0, 5))\n",
        "    ax2.set_yticklabels(list(range(0, 5)), fontsize=12)\n",
        "\n",
        "    # add a legend\n",
        "    legend_elements = [\n",
        "        Patch(facecolor=\"gray\", edgecolor=\"black\", label=\"Up\"),\n",
        "        Patch(facecolor=\"red\", edgecolor=\"black\", label=\"Down\"),\n",
        "        Patch(facecolor=\"blue\", edgecolor=\"black\", label=\"Left\"),\n",
        "        Patch(facecolor=\"lightgreen\", edgecolor=\"black\", label=\"Right\"),\n",
        "    ]\n",
        "    ax2.legend(handles=legend_elements, bbox_to_anchor=(1.3, 1))\n",
        "\n",
        "    return fig\n",
        "\n",
        "\n",
        "\n",
        "def create_plots_string(string_policy_grid):\n",
        "    from matplotlib.colors import ListedColormap\n",
        "    map_data = np.array(string_policy_grid)\n",
        "    \n",
        "    colors = ['red', 'black', 'lightgreen', 'green', 'gray']\n",
        "    cmap = ListedColormap(colors)\n",
        "\n",
        "    # Create an array of integers based on the character array\n",
        "    numeric_map = np.zeros(map_data.shape, dtype=int)\n",
        "    for i, char in enumerate(['↓', 'X', '→', 'G', '↑']):\n",
        "        numeric_map[map_data == char] = i\n",
        "\n",
        "    # Create the plot using imshow\n",
        "    fig, ax = plt.subplots()\n",
        "    im = ax.imshow(numeric_map, cmap=cmap, norm=plt.Normalize(0, len(colors)))\n",
        "\n",
        "    # Add character annotations\n",
        "    for i in range(map_data.shape[0]):\n",
        "        for j in range(map_data.shape[1]):\n",
        "            char = map_data[i, j]\n",
        "            ax.text(j, i, char, ha='center', va='center', color='black', fontsize=12)\n",
        "\n",
        "    # add a legend\n",
        "    legend_elements = [\n",
        "        Patch(facecolor=\"gray\", edgecolor=\"black\", label=\"Up\"),\n",
        "        Patch(facecolor=\"red\", edgecolor=\"black\", label=\"Down\"),\n",
        "        Patch(facecolor=\"blue\", edgecolor=\"black\", label=\"Left\"),\n",
        "        Patch(facecolor=\"lightgreen\", edgecolor=\"black\", label=\"Right\"),\n",
        "        Patch(facecolor=\"green\", edgecolor=\"black\", label=\"Goal\"),\n",
        "    ]\n",
        "    ax.legend(handles=legend_elements, bbox_to_anchor=(1.3, 1))\n",
        "\n",
        "    return fig\n",
        "\n",
        "# state values & policy with usable ace (ace counts as 11)\n",
        "value_grid, policy_grid, string_policy_grid = create_grids(agent)\n",
        "fig1 = create_plots(value_grid, policy_grid)\n",
        "fig2 = create_plots_string(string_policy_grid)\n",
        "\n",
        "plt.show()"
      ]
    }
  ],
  "metadata": {
    "kernelspec": {
      "display_name": "Python 3",
      "language": "python",
      "name": "python3"
    },
    "language_info": {
      "codemirror_mode": {
        "name": "ipython",
        "version": 3
      },
      "file_extension": ".py",
      "mimetype": "text/x-python",
      "name": "python",
      "nbconvert_exporter": "python",
      "pygments_lexer": "ipython3",
      "version": "3.11.5"
    }
  },
  "nbformat": 4,
  "nbformat_minor": 0
}
