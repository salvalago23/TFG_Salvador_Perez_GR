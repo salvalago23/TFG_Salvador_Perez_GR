{
 "cells": [
  {
   "cell_type": "code",
   "execution_count": 13,
   "metadata": {},
   "outputs": [],
   "source": [
    "import torch\n",
    "import torch.nn as nn\n",
    "import torch.optim as optim\n",
    "import numpy as np\n",
    "import matplotlib.pyplot as plt\n",
    "import csv\n",
    "from sklearn.model_selection import train_test_split\n",
    "\n",
    "from envs.createEnvs import createCSVEnv\n",
    "from envs.environments import NeuralNetwork\n",
    "\n",
    "device = torch.device(\"cuda:0\" if torch.cuda.is_available() else \"cpu\")"
   ]
  },
  {
   "cell_type": "code",
   "execution_count": null,
   "metadata": {},
   "outputs": [],
   "source": [
    "def csvEditor(max_duplicates, input_csv, output_csv): #deletes the duplicates in the csv file\n",
    "    row_counts = {}\n",
    "    max_duplicates=max_duplicates\n",
    "\n",
    "    # Leer el archivo CSV y encontrar filas únicas\n",
    "    with open(input_csv, 'r') as csv_file:\n",
    "        csv_reader = csv.reader(csv_file)\n",
    "        header = next(csv_reader)  # Leer la fila de encabezado\n",
    "        output_rows = [header]  # Lista para almacenar las filas de salida, incluida la fila de encabezado\n",
    "\n",
    "        for row in csv_reader:\n",
    "            # Eliminar la columna \"step\" (la primera columna) antes de verificar duplicados\n",
    "            row_no_step = row[1:]\n",
    "            # Convertir la fila a una cadena para verificar duplicados\n",
    "            row_str = \",\".join(row_no_step)\n",
    "            # Contar cuántas veces aparece la fila\n",
    "            if row_str not in row_counts:\n",
    "                row_counts[row_str] = 1\n",
    "            else:\n",
    "                row_counts[row_str] += 1\n",
    "            # Verificar si la fila aparece menos o igual al número máximo de veces permitidas\n",
    "            if row_counts[row_str] <= max_duplicates:\n",
    "                # Agregar la fila a las filas de salida\n",
    "                output_rows.append(row)\n",
    "\n",
    "    # Escribir las filas únicas en el archivo CSV de salida\n",
    "    with open(output_csv, 'w', newline='') as csv_output:\n",
    "        csv_writer = csv.writer(csv_output)\n",
    "        csv_writer.writerows(output_rows)"
   ]
  },
  {
   "cell_type": "code",
   "execution_count": 14,
   "metadata": {},
   "outputs": [
    {
     "name": "stderr",
     "output_type": "stream",
     "text": [
      "c:\\Users\\el_sa\\anaconda3\\envs\\TFG\\Lib\\site-packages\\gymnasium\\envs\\registration.py:694: UserWarning: \u001b[33mWARN: Overriding environment grid-v0 already in registry.\u001b[0m\n",
      "  logger.warn(f\"Overriding environment {new_spec.id} already in registry.\")\n"
     ]
    }
   ],
   "source": [
    "shape = \"14x14\"\n",
    "\n",
    "if shape == \"5x5\":\n",
    "    n_rows, n_cols = 5, 5\n",
    "    n_epochs_grid = 3000\n",
    "    n_epochs_reward = 3000\n",
    "    #input_csv = '../data/csv/history.csv'\n",
    "    output_csv = '../data/csv/history.csv'\n",
    "    grid_model_path = '../data/models/_modelo_entorno5x5.pt'\n",
    "    reward_model_path = '../data/models/_modelo_recompensa5x5.pt'\n",
    "\n",
    "elif shape == \"14x14\":\n",
    "    n_rows, n_cols = 14, 14\n",
    "    n_epochs_grid = 100000\n",
    "    n_epochs_reward = 3000\n",
    "    input_csv = '../data/csv/history14x14.csv'\n",
    "    output_csv = '../data/csv/new14x14.csv'\n",
    "    grid_model_path = '../data/models/_modelo_entorno14x14.pt'\n",
    "    reward_model_path = '../data/models/_modelo_recompensa14x14.pt'\n",
    "    csvEditor(4, input_csv, output_csv)\n",
    "\n",
    "env = createCSVEnv(shape)#, randomStart=False, render=False)"
   ]
  },
  {
   "cell_type": "code",
   "execution_count": 15,
   "metadata": {},
   "outputs": [],
   "source": [
    "# Listas para almacenar los valores de las columnas del csv\n",
    "sy_values = []\n",
    "sx_values = []\n",
    "a_values = []\n",
    "sy1_values = []\n",
    "sx1_values = []\n",
    "reward_values = []"
   ]
  },
  {
   "cell_type": "code",
   "execution_count": 18,
   "metadata": {},
   "outputs": [],
   "source": [
    "# Leer el archivo CSV\n",
    "with open(output_csv, 'r') as csv_file:\n",
    "    csv_reader = csv.reader(csv_file)\n",
    "    next(csv_reader)  # Quitar la primera fila donde están los nombres de las columnas\n",
    "\n",
    "    for row in csv_reader:\n",
    "        step, y, x, action, next_y, next_x, reward, done =  row\n",
    "        sy_values.append(float(y))\n",
    "        sx_values.append(float(x))\n",
    "        a_values.append(float(action))\n",
    "        sy1_values.append(float(next_y))\n",
    "        sx1_values.append(float(next_x))\n",
    "        reward_values.append(float(reward))"
   ]
  },
  {
   "cell_type": "code",
   "execution_count": 19,
   "metadata": {},
   "outputs": [],
   "source": [
    "# Convertir las listas en NumPy arrays\n",
    "sy_array = np.array(sy_values)\n",
    "sx_array = np.array(sx_values)\n",
    "a_array = np.array(a_values)\n",
    "sy1_array = np.array(sy1_values)\n",
    "sx1_array = np.array(sx1_values)\n",
    "reward_array = np.array(reward_values)"
   ]
  },
  {
   "cell_type": "code",
   "execution_count": 20,
   "metadata": {},
   "outputs": [],
   "source": [
    "input_data1 = np.column_stack((sy_array, sx_array, a_array))\n",
    "target_data1 = np.column_stack((sy1_array, sx1_array))\n",
    "input_data2 = input_data1\n",
    "target_data2 = reward_array"
   ]
  },
  {
   "cell_type": "code",
   "execution_count": 21,
   "metadata": {},
   "outputs": [],
   "source": [
    "X_train1, X_test1, y_train1, y_test1 = train_test_split(input_data1, target_data1, test_size=0.2, random_state=42)\n",
    "X_train2, X_test2, y_train2, y_test2 = train_test_split(input_data2, target_data2, test_size=0.2, random_state=42)"
   ]
  },
  {
   "cell_type": "code",
   "execution_count": 22,
   "metadata": {},
   "outputs": [],
   "source": [
    "if shape == \"5x5\":\n",
    "    model1 = NeuralNetwork(3, 2)\n",
    "    model2 = NeuralNetwork(3, 1)\n",
    "elif shape == \"14x14\":\n",
    "    model1 = NeuralNetwork(3, 2, 256, 128)\n",
    "    model2 = NeuralNetwork(3, 1, 64, 64)\n",
    "\n",
    "# Define the loss function and optimizer\n",
    "criterion = nn.MSELoss()\n",
    "optimizer1 = optim.Adam(model1.parameters())\n",
    "optimizer2 = optim.Adam(model2.parameters())"
   ]
  },
  {
   "cell_type": "code",
   "execution_count": 23,
   "metadata": {},
   "outputs": [],
   "source": [
    "# Convert NumPy arrays to PyTorch tensors\n",
    "X_train_tensor1 = torch.tensor(X_train1, dtype=torch.float32)\n",
    "y_train_tensor1 = torch.tensor(y_train1, dtype=torch.float32)\n",
    "X_test_tensor1 = torch.tensor(X_test1, dtype=torch.float32)\n",
    "y_test_tensor1 = torch.tensor(y_test1, dtype=torch.float32)\n",
    "\n",
    "X_train_tensor2 = torch.tensor(X_train2, dtype=torch.float32)\n",
    "y_train_tensor2 = torch.tensor(y_train2, dtype=torch.float32).view(-1, 1)  # Reshape the target tensor\n",
    "X_test_tensor2 = torch.tensor(X_test2, dtype=torch.float32)\n",
    "y_test_tensor2 = torch.tensor(y_test2, dtype=torch.float32).view(-1, 1)  # Reshape the target tensor"
   ]
  },
  {
   "cell_type": "code",
   "execution_count": 24,
   "metadata": {},
   "outputs": [
    {
     "name": "stdout",
     "output_type": "stream",
     "text": [
      "Modelo entrenado!\n"
     ]
    }
   ],
   "source": [
    "losses1 = []\n",
    "\n",
    "for epoch in range(n_epochs_grid):\n",
    "    # Forward pass\n",
    "    outputs = model1(X_train_tensor1)\n",
    "    loss = criterion(outputs, y_train_tensor1)\n",
    "    \n",
    "    # Backpropagation and optimization\n",
    "    optimizer1.zero_grad()\n",
    "    loss.backward()\n",
    "    optimizer1.step()\n",
    "    \n",
    "    losses1.append(loss.item())\n",
    "\n",
    "print(\"Modelo entrenado!\")"
   ]
  },
  {
   "cell_type": "code",
   "execution_count": 25,
   "metadata": {},
   "outputs": [
    {
     "name": "stdout",
     "output_type": "stream",
     "text": [
      "Test loss: 0.025752676650881767\n"
     ]
    }
   ],
   "source": [
    "# Evaluate the model on the test data\n",
    "with torch.no_grad():\n",
    "    test_outputs = model1(X_test_tensor1)\n",
    "    test_loss = criterion(test_outputs, y_test_tensor1)\n",
    "    print(f'Test loss: {test_loss.item()}')"
   ]
  },
  {
   "cell_type": "code",
   "execution_count": 34,
   "metadata": {},
   "outputs": [
    {
     "data": {
      "text/plain": [
       "[<matplotlib.lines.Line2D at 0x1b90d5d6550>]"
      ]
     },
     "execution_count": 34,
     "metadata": {},
     "output_type": "execute_result"
    },
    {
     "data": {
      "image/png": "[encoded data removed]",
      "text/plain": [
       "<Figure size 640x480 with 1 Axes>"
      ]
     },
     "metadata": {},
     "output_type": "display_data"
    }
   ],
   "source": [
    "# Plot the training loss\n",
    "plt.xlabel(\"# Epoch\")\n",
    "plt.ylabel(\"Loss Magnitude\")\n",
    "plt.plot(losses1)"
   ]
  },
  {
   "cell_type": "code",
   "execution_count": 27,
   "metadata": {},
   "outputs": [
    {
     "name": "stdout",
     "output_type": "stream",
     "text": [
      "[0, 13, 2]\n",
      "El resultado es [ 0 12]\n",
      "El resultado es [0 13]\n",
      "\n",
      "[0, 13, 3]\n",
      "El resultado es [ 0 13]\n",
      "El resultado es [0 14]\n",
      "\n",
      "[2, 10, 2]\n",
      "El resultado es [2 9]\n",
      "El resultado es [2 10]\n",
      "\n",
      "[3, 12, 2]\n",
      "El resultado es [ 3 12]\n",
      "El resultado es [3 11]\n",
      "\n",
      "[6, 8, 2]\n",
      "El resultado es [6 8]\n",
      "El resultado es [6 7]\n",
      "\n",
      "[6, 10, 0]\n",
      "El resultado es [ 5 10]\n",
      "El resultado es [6 10]\n",
      "\n",
      "[7, 0, 1]\n",
      "El resultado es [8 0]\n",
      "El resultado es [7 0]\n",
      "\n",
      "[7, 9, 1]\n",
      "El resultado es [7 9]\n",
      "El resultado es [8 9]\n",
      "\n",
      "[7, 9, 2]\n",
      "El resultado es [7 8]\n",
      "El resultado es [7 9]\n",
      "\n",
      "[8, 0, 1]\n",
      "El resultado es [8 0]\n",
      "El resultado es [9 0]\n",
      "\n",
      "[8, 6, 1]\n",
      "El resultado es [8 6]\n",
      "El resultado es [9 6]\n",
      "\n",
      "[8, 10, 2]\n",
      "El resultado es [ 8 10]\n",
      "El resultado es [8 9]\n",
      "\n",
      "[9, 8, 0]\n",
      "El resultado es [8 8]\n",
      "El resultado es [9 8]\n",
      "\n",
      "[9, 8, 2]\n",
      "El resultado es [9 8]\n",
      "El resultado es [9 7]\n",
      "\n",
      "[10, 7, 0]\n",
      "El resultado es [10  7]\n",
      "El resultado es [9 7]\n",
      "\n",
      "[10, 9, 1]\n",
      "El resultado es [10  9]\n",
      "El resultado es [11 9]\n",
      "\n",
      "[10, 11, 1]\n",
      "El resultado es [10 11]\n",
      "El resultado es [11 11]\n",
      "\n",
      "[10, 11, 2]\n",
      "El resultado es [10 10]\n",
      "El resultado es [10 11]\n",
      "\n",
      "[11, 5, 2]\n",
      "El resultado es [11  5]\n",
      "El resultado es [11 4]\n",
      "\n",
      "[11, 10, 0]\n",
      "El resultado es [10 10]\n",
      "El resultado es [11 10]\n",
      "\n",
      "[11, 10, 2]\n",
      "El resultado es [11 10]\n",
      "El resultado es [11 9]\n",
      "\n",
      "[12, 10, 2]\n",
      "El resultado es [12 10]\n",
      "El resultado es [12 9]\n",
      "\n",
      "[13, 11, 2]\n",
      "El resultado es [13 10]\n",
      "El resultado es [13 11]\n",
      "\n"
     ]
    },
    {
     "name": "stderr",
     "output_type": "stream",
     "text": [
      "c:\\Users\\el_sa\\anaconda3\\envs\\TFG\\Lib\\site-packages\\gymnasium\\core.py:311: UserWarning: \u001b[33mWARN: env.test to get variables from other wrappers is deprecated and will be removed in v1.0, to get this variable you can do `env.unwrapped.test` for environment variables or `env.get_wrapper_attr('test')` that will search the reminding wrappers.\u001b[0m\n",
      "  logger.warn(\n"
     ]
    }
   ],
   "source": [
    "# Perform predictions\n",
    "grid = np.chararray((n_rows, n_cols), unicode=True)\n",
    "for j in range(n_rows):\n",
    "    for k in range(n_cols):\n",
    "        for i in range(4):\n",
    "            env_result = env.test([j, k, i])\n",
    "            if type(env_result) == str:\n",
    "                grid[j][k] = \"#\"\n",
    "            else:\n",
    "                grid[j][k] = \".\"\n",
    "                test_input = torch.tensor([[float(j), float(k), float(i)]], dtype=torch.float32)\n",
    "                resultado = model1(test_input)\n",
    "                resultado = resultado.detach().numpy()\n",
    "                if not(env_result[0] == round(resultado[0][0]) and env_result[1] == round(resultado[0][1])):\n",
    "                    print([j, k, i])\n",
    "                    print(\"El resultado es \" + str(env_result))\n",
    "                    print(\"El resultado es [\" + str(round(resultado[0][0])) + \" \" + str(round(resultado[0][1])) + \"]\\n\")\n"
   ]
  },
  {
   "cell_type": "code",
   "execution_count": 28,
   "metadata": {},
   "outputs": [],
   "source": [
    "torch.save(model1.state_dict(), grid_model_path)"
   ]
  },
  {
   "cell_type": "markdown",
   "metadata": {},
   "source": [
    "Red para modelar la función de recompensa:"
   ]
  },
  {
   "cell_type": "code",
   "execution_count": 29,
   "metadata": {},
   "outputs": [
    {
     "name": "stdout",
     "output_type": "stream",
     "text": [
      "Modelo entrenado!\n"
     ]
    }
   ],
   "source": [
    "losses2 = []\n",
    "\n",
    "for epoch in range(n_epochs_grid):\n",
    "    # Forward pass\n",
    "    outputs = model2(X_train_tensor2)\n",
    "    loss = criterion(outputs, y_train_tensor2)\n",
    "    \n",
    "    # Backpropagation and optimization\n",
    "    optimizer2.zero_grad()\n",
    "    loss.backward()\n",
    "    optimizer2.step()\n",
    "    \n",
    "    losses2.append(loss.item())\n",
    "\n",
    "print(\"Modelo entrenado!\")"
   ]
  },
  {
   "cell_type": "code",
   "execution_count": 30,
   "metadata": {},
   "outputs": [
    {
     "name": "stdout",
     "output_type": "stream",
     "text": [
      "Test loss: 2.4305213841557816e-08\n"
     ]
    }
   ],
   "source": [
    "# Evaluate the model on the test data\n",
    "with torch.no_grad():\n",
    "    test_outputs = model2(X_test_tensor2)\n",
    "    test_loss = criterion(test_outputs, y_test_tensor2)\n",
    "    print(f'Test loss: {test_loss.item()}')"
   ]
  },
  {
   "cell_type": "code",
   "execution_count": 31,
   "metadata": {},
   "outputs": [
    {
     "data": {
      "text/plain": [
       "[<matplotlib.lines.Line2D at 0x1b90d69a3d0>]"
      ]
     },
     "execution_count": 31,
     "metadata": {},
     "output_type": "execute_result"
    },
    {
     "data": {
      "image/png": "[encoded data removed]",
      "text/plain": [
       "<Figure size 640x480 with 1 Axes>"
      ]
     },
     "metadata": {},
     "output_type": "display_data"
    }
   ],
   "source": [
    "# Plot the training loss\n",
    "plt.xlabel(\"# Epoch\")\n",
    "plt.ylabel(\"Loss Magnitude\")\n",
    "plt.plot(losses2)"
   ]
  },
  {
   "cell_type": "code",
   "execution_count": 32,
   "metadata": {},
   "outputs": [
    {
     "name": "stdout",
     "output_type": "stream",
     "text": [
      "[0, 10, 3]\t->\t0.5925 \t-> Redondeo: 1\n",
      "[0, 11, 3]\t->\t0.8432 \t-> Redondeo: 1\n",
      "[0, 12, 3]\t->\t1.0 \t-> Redondeo: 1\n",
      "[0, 13, 3]\t->\t0.9745 \t-> Redondeo: 1\n",
      "[1, 13, 0]\t->\t1.0 \t-> Redondeo: 1\n"
     ]
    }
   ],
   "source": [
    "# Perform predictions\n",
    "for j in range(n_rows):\n",
    "    for k in range(n_cols):\n",
    "        for i in range(4):\n",
    "            test_input = torch.tensor([[float(j), float(k), float(i)]], dtype=torch.float32)\n",
    "            resultado = model2(test_input)\n",
    "            resultado = resultado.detach().numpy()\n",
    "            #print(\"El vector de entrada [y,x,a] es \", [j, k, i])\n",
    "            #print(\"El resultado es \" + str(resultado[0][0]) + \" \\t-> Redondeo: \" + str(round(resultado[0][0])))\n",
    "            if round(resultado[0][0]) == 1:\n",
    "                print(str([j, k, i]) + \"\\t->\\t\" + str(round(abs(resultado[0][0]), 4)) + \" \\t-> Redondeo: \" + str(round(resultado[0][0])))"
   ]
  },
  {
   "cell_type": "code",
   "execution_count": 33,
   "metadata": {},
   "outputs": [],
   "source": [
    "torch.save(model2.state_dict(), reward_model_path)"
   ]
  }
 ],
 "metadata": {
  "kernelspec": {
   "display_name": "TFGG",
   "language": "python",
   "name": "python3"
  },
  "language_info": {
   "codemirror_mode": {
    "name": "ipython",
    "version": 3
   },
   "file_extension": ".py",
   "mimetype": "text/x-python",
   "name": "python",
   "nbconvert_exporter": "python",
   "pygments_lexer": "ipython3",
   "version": "3.11.5"
  },
  "orig_nbformat": 4
 },
 "nbformat": 4,
 "nbformat_minor": 2
}
