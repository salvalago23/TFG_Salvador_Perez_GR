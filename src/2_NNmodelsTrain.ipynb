{
 "cells": [
  {
   "cell_type": "code",
   "execution_count": 40,
   "metadata": {},
   "outputs": [],
   "source": [
    "import torch\n",
    "import torch.nn as nn\n",
    "import torch.optim as optim\n",
    "import numpy as np\n",
    "import matplotlib.pyplot as plt\n",
    "import csv\n",
    "from sklearn.model_selection import train_test_split"
   ]
  },
  {
   "cell_type": "code",
   "execution_count": 41,
   "metadata": {},
   "outputs": [],
   "source": [
    "# Nombre del archivo CSV\n",
    "path_csv = '../data/csv/history.csv'\n",
    "\n",
    "# Listas para almacenar los valores de las columnas 's' y 'reward'\n",
    "sy_values = []\n",
    "sx_values = []\n",
    "a_values = []\n",
    "sy1_values = []\n",
    "sx1_values = []\n",
    "reward_values = []"
   ]
  },
  {
   "cell_type": "code",
   "execution_count": 42,
   "metadata": {},
   "outputs": [],
   "source": [
    "# Leer el archivo CSV\n",
    "with open(path_csv, 'r') as csv_file:\n",
    "    csv_reader = csv.reader(csv_file)\n",
    "    next(csv_reader)  # Quitar la primera fila donde están los nombres de las columnas\n",
    "\n",
    "    for row in csv_reader:\n",
    "        step, y, x, action, next_y, next_x, reward, done =  row\n",
    "        sy_values.append(float(y))\n",
    "        sx_values.append(float(x))\n",
    "        a_values.append(float(action))\n",
    "        sy1_values.append(float(next_y))\n",
    "        sx1_values.append(float(next_x))\n",
    "        reward_values.append(float(reward))"
   ]
  },
  {
   "cell_type": "code",
   "execution_count": 43,
   "metadata": {},
   "outputs": [],
   "source": [
    "# Convertir las listas en NumPy arrays\n",
    "sy_array = np.array(sy_values)\n",
    "sx_array = np.array(sx_values)\n",
    "a_array = np.array(a_values)\n",
    "sy1_array = np.array(sy1_values)\n",
    "sx1_array = np.array(sx1_values)\n",
    "reward_array = np.array(reward_values)"
   ]
  },
  {
   "cell_type": "code",
   "execution_count": 44,
   "metadata": {},
   "outputs": [],
   "source": [
    "input_data1 = np.column_stack((sy_array, sx_array, a_array))\n",
    "target_data1 = np.column_stack((sy1_array, sx1_array))\n",
    "input_data2 = input_data1\n",
    "target_data2 = reward_array"
   ]
  },
  {
   "cell_type": "code",
   "execution_count": 45,
   "metadata": {},
   "outputs": [],
   "source": [
    "X_train1, X_test1, y_train1, y_test1 = train_test_split(input_data1, target_data1, test_size=0.2, random_state=42)\n",
    "X_train2, X_test2, y_train2, y_test2 = train_test_split(input_data2, target_data2, test_size=0.2, random_state=42)"
   ]
  },
  {
   "cell_type": "code",
   "execution_count": 46,
   "metadata": {},
   "outputs": [],
   "source": [
    "class NeuralNetwork(nn.Module):\n",
    "    def __init__(self, input_size, output_size):\n",
    "        super(NeuralNetwork, self).__init__()\n",
    "        self.fc1 = nn.Linear(input_size, 64)\n",
    "        self.fc2 = nn.Linear(64, output_size)\n",
    "\n",
    "    def forward(self, x):\n",
    "        x = torch.relu(self.fc1(x))\n",
    "        x = self.fc2(x)\n",
    "        return x"
   ]
  },
  {
   "cell_type": "code",
   "execution_count": 47,
   "metadata": {},
   "outputs": [],
   "source": [
    "# Create an instance of the model\n",
    "model1 = NeuralNetwork(3, 2)\n",
    "model2 = NeuralNetwork(3, 1)\n",
    "\n",
    "# Define the loss function and optimizer\n",
    "criterion = nn.MSELoss()\n",
    "optimizer1 = optim.Adam(model1.parameters())\n",
    "optimizer2 = optim.Adam(model2.parameters())"
   ]
  },
  {
   "cell_type": "code",
   "execution_count": 48,
   "metadata": {},
   "outputs": [],
   "source": [
    "# Convert NumPy arrays to PyTorch tensors\n",
    "X_train_tensor1 = torch.tensor(X_train1, dtype=torch.float32)\n",
    "y_train_tensor1 = torch.tensor(y_train1, dtype=torch.float32)\n",
    "X_test_tensor1 = torch.tensor(X_test1, dtype=torch.float32)\n",
    "y_test_tensor1 = torch.tensor(y_test1, dtype=torch.float32)\n",
    "\n",
    "X_train_tensor2 = torch.tensor(X_train2, dtype=torch.float32)\n",
    "y_train_tensor2 = torch.tensor(y_train2, dtype=torch.float32).view(-1, 1)  # Reshape the target tensor\n",
    "X_test_tensor2 = torch.tensor(X_test2, dtype=torch.float32)\n",
    "y_test_tensor2 = torch.tensor(y_test2, dtype=torch.float32).view(-1, 1)  # Reshape the target tensor"
   ]
  },
  {
   "cell_type": "code",
   "execution_count": 49,
   "metadata": {},
   "outputs": [
    {
     "name": "stdout",
     "output_type": "stream",
     "text": [
      "Modelo entrenado!\n"
     ]
    }
   ],
   "source": [
    "num_epochs1 = 2000\n",
    "losses1 = []\n",
    "\n",
    "for epoch in range(num_epochs1):\n",
    "    # Forward pass\n",
    "    outputs = model1(X_train_tensor1)\n",
    "    loss = criterion(outputs, y_train_tensor1)\n",
    "    \n",
    "    # Backpropagation and optimization\n",
    "    optimizer1.zero_grad()\n",
    "    loss.backward()\n",
    "    optimizer1.step()\n",
    "    \n",
    "    losses1.append(loss.item())\n",
    "\n",
    "print(\"Modelo entrenado!\")"
   ]
  },
  {
   "cell_type": "code",
   "execution_count": 50,
   "metadata": {},
   "outputs": [
    {
     "name": "stdout",
     "output_type": "stream",
     "text": [
      "Test loss: 0.03024693764746189\n"
     ]
    }
   ],
   "source": [
    "# Evaluate the model on the test data\n",
    "with torch.no_grad():\n",
    "    test_outputs = model1(X_test_tensor1)\n",
    "    test_loss = criterion(test_outputs, y_test_tensor1)\n",
    "    print(f'Test loss: {test_loss.item()}')"
   ]
  },
  {
   "cell_type": "code",
   "execution_count": 51,
   "metadata": {},
   "outputs": [
    {
     "data": {
      "text/plain": [
       "[<matplotlib.lines.Line2D at 0x176eb509550>]"
      ]
     },
     "execution_count": 51,
     "metadata": {},
     "output_type": "execute_result"
    },
    {
     "data": {
      "image/png": "[encoded data removed]",
      "text/plain": [
       "<Figure size 640x480 with 1 Axes>"
      ]
     },
     "metadata": {},
     "output_type": "display_data"
    }
   ],
   "source": [
    "# Plot the training loss\n",
    "plt.xlabel(\"# Epoch\")\n",
    "plt.ylabel(\"Loss Magnitude\")\n",
    "plt.plot(losses1)"
   ]
  },
  {
   "cell_type": "code",
   "execution_count": 52,
   "metadata": {},
   "outputs": [
    {
     "name": "stdout",
     "output_type": "stream",
     "text": [
      "El vector de entrada [y,x,a] es  [4, 0, 0]\n",
      "El resultado es [[ 2.9320323 -0.0264487]]-> Redondeo:3,0\n",
      "El vector de entrada [y,x,a] es  [4, 0, 1]\n",
      "El resultado es [[4.201046   0.05361128]]-> Redondeo:4,0\n",
      "El vector de entrada [y,x,a] es  [4, 0, 2]\n",
      "El resultado es [[ 4.0151     -0.17927086]]-> Redondeo:4,0\n",
      "El vector de entrada [y,x,a] es  [4, 0, 3]\n",
      "El resultado es [[3.9866378 1.0526589]]-> Redondeo:4,1\n",
      "El vector de entrada [y,x,a] es  [4, 1, 0]\n",
      "El resultado es [[2.9579349 1.0309234]]-> Redondeo:3,1\n",
      "El vector de entrada [y,x,a] es  [4, 1, 1]\n",
      "El resultado es [[4.203636 0.943151]]-> Redondeo:4,1\n",
      "El vector de entrada [y,x,a] es  [4, 1, 2]\n",
      "El resultado es [[4.0265756  0.04574871]]-> Redondeo:4,0\n",
      "El vector de entrada [y,x,a] es  [4, 1, 3]\n",
      "El resultado es [[3.9368148 1.0192527]]-> Redondeo:4,1\n"
     ]
    }
   ],
   "source": [
    "# Perform predictions\n",
    "for k in range(2):\n",
    "    for i in range(4):\n",
    "        test_input = torch.tensor([[4.0, float(k), float(i)]], dtype=torch.float32)\n",
    "        resultado = model1(test_input)\n",
    "        resultado = resultado.detach().numpy()\n",
    "        print(\"El vector de entrada [y,x,a] es \", [4, k, i])\n",
    "        print(\"El resultado es \" + str(resultado) + \"-> Redondeo:\" + str(round(resultado[0][0]))+ ',' + str(round(resultado[0][1])))\n"
   ]
  },
  {
   "cell_type": "code",
   "execution_count": 53,
   "metadata": {},
   "outputs": [],
   "source": [
    "torch.save(model1.state_dict(), '../data/models/modelo_entorno.pt')\n",
    "#El nombre empieza con _ para no sobreescribir los modelos ya creados"
   ]
  },
  {
   "cell_type": "markdown",
   "metadata": {},
   "source": [
    "Red para modelar la función de recompensa:"
   ]
  },
  {
   "cell_type": "code",
   "execution_count": 54,
   "metadata": {},
   "outputs": [
    {
     "name": "stdout",
     "output_type": "stream",
     "text": [
      "Modelo entrenado!\n"
     ]
    }
   ],
   "source": [
    "num_epochs2 = 2000\n",
    "losses2 = []\n",
    "\n",
    "for epoch in range(num_epochs2):\n",
    "    # Forward pass\n",
    "    outputs = model2(X_train_tensor2)\n",
    "    loss = criterion(outputs, y_train_tensor2)\n",
    "    \n",
    "    # Backpropagation and optimization\n",
    "    optimizer2.zero_grad()\n",
    "    loss.backward()\n",
    "    optimizer2.step()\n",
    "    \n",
    "    losses2.append(loss.item())\n",
    "\n",
    "print(\"Modelo entrenado!\")"
   ]
  },
  {
   "cell_type": "code",
   "execution_count": 55,
   "metadata": {},
   "outputs": [
    {
     "name": "stdout",
     "output_type": "stream",
     "text": [
      "Test loss: 0.0009599585318937898\n"
     ]
    }
   ],
   "source": [
    "# Evaluate the model on the test data\n",
    "with torch.no_grad():\n",
    "    test_outputs = model2(X_test_tensor2)\n",
    "    test_loss = criterion(test_outputs, y_test_tensor2)\n",
    "    print(f'Test loss: {test_loss.item()}')"
   ]
  },
  {
   "cell_type": "code",
   "execution_count": 56,
   "metadata": {},
   "outputs": [
    {
     "data": {
      "text/plain": [
       "[<matplotlib.lines.Line2D at 0x176e4f46150>]"
      ]
     },
     "execution_count": 56,
     "metadata": {},
     "output_type": "execute_result"
    },
    {
     "data": {
      "image/png": "[encoded data removed]",
      "text/plain": [
       "<Figure size 640x480 with 1 Axes>"
      ]
     },
     "metadata": {},
     "output_type": "display_data"
    }
   ],
   "source": [
    "# Plot the training loss\n",
    "plt.xlabel(\"# Epoch\")\n",
    "plt.ylabel(\"Loss Magnitude\")\n",
    "plt.plot(losses2)"
   ]
  },
  {
   "cell_type": "code",
   "execution_count": 57,
   "metadata": {},
   "outputs": [
    {
     "name": "stdout",
     "output_type": "stream",
     "text": [
      "El vector de entrada [y,x,a] es  [0, 2, 0]\n",
      "El resultado es -0.054388676 \t-> Redondeo: 0\n",
      "El vector de entrada [y,x,a] es  [0, 2, 1]\n",
      "El resultado es -0.116772264 \t-> Redondeo: 0\n",
      "El vector de entrada [y,x,a] es  [0, 2, 2]\n",
      "El resultado es 0.28533196 \t-> Redondeo: 0\n",
      "El vector de entrada [y,x,a] es  [0, 2, 3]\n",
      "El resultado es 0.23025449 \t-> Redondeo: 0\n",
      "El vector de entrada [y,x,a] es  [0, 3, 0]\n",
      "El resultado es 0.06182799 \t-> Redondeo: 0\n",
      "El vector de entrada [y,x,a] es  [0, 3, 1]\n",
      "El resultado es -0.00093719084 \t-> Redondeo: 0\n",
      "El vector de entrada [y,x,a] es  [0, 3, 2]\n",
      "El resultado es 0.20352468 \t-> Redondeo: 0\n",
      "El vector de entrada [y,x,a] es  [0, 3, 3]\n",
      "El resultado es 0.7039194 \t-> Redondeo: 1\n",
      "El vector de entrada [y,x,a] es  [0, 4, 0]\n",
      "El resultado es 0.19429477 \t-> Redondeo: 0\n",
      "El vector de entrada [y,x,a] es  [0, 4, 1]\n",
      "El resultado es 0.1330407 \t-> Redondeo: 0\n",
      "El vector de entrada [y,x,a] es  [0, 4, 2]\n",
      "El resultado es 0.16720937 \t-> Redondeo: 0\n",
      "El vector de entrada [y,x,a] es  [0, 4, 3]\n",
      "El resultado es 0.63741076 \t-> Redondeo: 1\n"
     ]
    }
   ],
   "source": [
    "# Perform predictions\n",
    "for k in range(2,5):\n",
    "    for i in range(4):\n",
    "        test_input = torch.tensor([[0.0, float(k), float(i)]], dtype=torch.float32)\n",
    "        resultado = model2(test_input)\n",
    "        resultado = resultado.detach().numpy()\n",
    "        print(\"El vector de entrada [y,x,a] es \", [0, k, i])\n",
    "        print(\"El resultado es \" + str(resultado[0][0]) + \" \\t-> Redondeo: \" + str(round(resultado[0][0])))\n"
   ]
  },
  {
   "cell_type": "code",
   "execution_count": 58,
   "metadata": {},
   "outputs": [],
   "source": [
    "torch.save(model2.state_dict(), '../data/models/modelo_reward.pt')\n",
    "#El nombre empieza con _ para no sobreescribir los modelos ya creados"
   ]
  }
 ],
 "metadata": {
  "kernelspec": {
   "display_name": "TFGG",
   "language": "python",
   "name": "python3"
  },
  "language_info": {
   "codemirror_mode": {
    "name": "ipython",
    "version": 3
   },
   "file_extension": ".py",
   "mimetype": "text/x-python",
   "name": "python",
   "nbconvert_exporter": "python",
   "pygments_lexer": "ipython3",
   "version": "3.11.5"
  },
  "orig_nbformat": 4
 },
 "nbformat": 4,
 "nbformat_minor": 2
}
