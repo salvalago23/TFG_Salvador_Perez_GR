{
 "cells": [
  {
   "cell_type": "code",
   "execution_count": null,
   "metadata": {},
   "outputs": [],
   "source": [
    "import sys\n",
    "sys.path.append('../')\n",
    "\n",
    "from envs.CreateEnvs import createNNEnv\n",
    "\n",
    "import pygame\n",
    "import time"
   ]
  },
  {
   "cell_type": "code",
   "execution_count": null,
   "metadata": {},
   "outputs": [],
   "source": [
    "first_write = False\n",
    "writing_enabled = False\n",
    "num_executions = 3\n",
    "\n",
    "shape = \"5x5\"\n",
    "render = True\n",
    "\n",
    "if shape == \"5x5\":\n",
    "    csv_name  = \"historyNN5x5\"\n",
    "elif shape == \"14x14\":\n",
    "    csv_name  = \"historyNN14x14\""
   ]
  },
  {
   "cell_type": "code",
   "execution_count": null,
   "metadata": {},
   "outputs": [],
   "source": [
    "env = createNNEnv(shape, render=render)"
   ]
  },
  {
   "cell_type": "code",
   "execution_count": null,
   "metadata": {},
   "outputs": [],
   "source": [
    "with open(f\"../data/csv/\" + csv_name + \".csv\", 'a') as f:\n",
    "    if first_write and writing_enabled:\n",
    "        f.write(f\"step,y,x,action,next_y,next_x,reward,done\\n\")\n",
    "    \n",
    "    start_time = time.time()\n",
    "\n",
    "    for i in range(num_executions):\n",
    "        env.unwrapped.randomize_start_pos()\n",
    "        obs, _ = env.reset()\n",
    "        if render: env.render()\n",
    "\n",
    "        t = 0\n",
    "        done = False\n",
    "        while not done:\n",
    "            if render: pygame.event.get()\n",
    "            action = env.action_space.sample()  # Random action selection\n",
    "            prev_state = [obs[0], obs[1], action]\n",
    "            obs, rew, done, _, _ = env.step(action)\n",
    "\n",
    "            if writing_enabled:\n",
    "                f.write(f\"{t},{prev_state[0]},{prev_state[1]},{prev_state[2]},{obs[0]},{obs[1]},{rew},{done}\\n\")\n",
    "            \n",
    "            t += 1\n",
    "            if render:\n",
    "                env.render()\n",
    "                pygame.time.wait(50)\n",
    "\n",
    "        print(\"Agente\", i+1, \"terminado en\", t, \"pasos\")\n",
    "\n",
    "if render: env.close()\n",
    "\n",
    "end_time = time.time()\n",
    "elapsed_time = end_time - start_time\n",
    "print(f\"La ejecución de {num_executions} episodios ha tardado: {elapsed_time:.2f} segundos\")"
   ]
  }
 ],
 "metadata": {
  "language_info": {
   "name": "python"
  }
 },
 "nbformat": 4,
 "nbformat_minor": 2
}
