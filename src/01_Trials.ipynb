{
 "cells": [
  {
   "cell_type": "code",
   "execution_count": 23,
   "metadata": {},
   "outputs": [],
   "source": [
    "import random"
   ]
  },
  {
   "cell_type": "code",
   "execution_count": 24,
   "metadata": {},
   "outputs": [],
   "source": [
    "def transition_generator(maze, with_walls = True):\n",
    "    transiciones = []\n",
    "\n",
    "    n_rows, n_cols = len(maze), len(maze[0])\n",
    "\n",
    "    for y in range(n_rows):\n",
    "        for x in range(n_cols):\n",
    "            # Si la casilla actual es un muro o una casilla 'x' (forzada a no demostracion),\n",
    "            # no se puede guardar la transición\n",
    "            if maze[y][x] != '#' and maze[y][x] != 'x':\n",
    "                for a in range(4):\n",
    "                    if a == 0:  # Mover hacia el norte\n",
    "                        y1, x1 = max(0, y - 1), x\n",
    "                    elif a == 1:  # Mover hacia el sur\n",
    "                        y1, x1 = min(n_rows - 1, y + 1), x\n",
    "                    elif a == 2:  # Mover hacia el oeste\n",
    "                        y1, x1 = y, max(0, x - 1)\n",
    "                    elif a == 3:  # Mover hacia el este\n",
    "                        y1, x1 = y, min(n_cols - 1, x + 1)\n",
    "\n",
    "                    # Si la casilla siguiente es un muro y el booleano es válido,\n",
    "                    # se debe guardar la transición de la casilla actual a sí misma\n",
    "                    if maze[y1][x1] == '#':\n",
    "                        if with_walls:\n",
    "                            transiciones.append([y, x, a, y, x])\n",
    "                    # Si la casilla siguiente es una casilla 'x' no vamos a guardar ninguna transición\n",
    "                    elif maze[y1][x1] == 'x':\n",
    "                        pass\n",
    "                    # Si la siguiente no es ninguna de las anteriores, se guarda la transición\n",
    "                    else:\n",
    "                        transiciones.append([y, x, a, y1, x1])\n",
    "\n",
    "    return transiciones\n",
    "\n",
    "# Misma función que la anterior pero con un porcentaje de retención fijo del 66%\n",
    "# y que después genera el otro 33% de transiciones con repeticiones de las que ya tiene\n",
    "# Al final tendrá el mismo numero de transiciones que la lista original\n",
    "def transitions_families_generator_66(transiciones_iniciales, n):\n",
    "    n_transiciones_iniciales = len(transiciones_iniciales)\n",
    "\n",
    "    n_borradas = int((1 - 0.66) * n_transiciones_iniciales)\n",
    "    \n",
    "    nuevos_arrays = []\n",
    "\n",
    "    for _ in range(n):\n",
    "        # Crear una copia de las transiciones iniciales\n",
    "        nuevas_transiciones = transiciones_iniciales.copy()\n",
    "\n",
    "        # Eliminar aleatoriamente 'n_retenidas' transiciones\n",
    "        transiciones_a_eliminar = random.sample(nuevas_transiciones, n_borradas)\n",
    "        for t in transiciones_a_eliminar:\n",
    "            nuevas_transiciones.remove(t)\n",
    "\n",
    "        # Repetir aleatoriamente 'n_borradas' transiciones\n",
    "        transiciones_a_repetir = random.sample(nuevas_transiciones, n_borradas)\n",
    "        for t in transiciones_a_repetir:\n",
    "            nuevas_transiciones.append(t)\n",
    "\n",
    "        nuevos_arrays.append(nuevas_transiciones)\n",
    "\n",
    "    return nuevos_arrays\n",
    "\n",
    "def transitions_families_generator_66(transiciones_iniciales, n):\n",
    "    n_transiciones_iniciales = len(transiciones_iniciales)\n",
    "\n",
    "    n_borradas = int((1 - 0.66) * n_transiciones_iniciales)\n",
    "    \n",
    "    nuevos_arrays = []\n",
    "\n",
    "    for _ in range(n):\n",
    "        # Crear una copia de las transiciones iniciales\n",
    "        nuevas_transiciones = transiciones_iniciales.copy()\n",
    "\n",
    "        # Eliminar aleatoriamente 'n_retenidas' transiciones\n",
    "        transiciones_a_eliminar = random.sample(nuevas_transiciones, n_borradas)\n",
    "        for t in transiciones_a_eliminar:\n",
    "            nuevas_transiciones.remove(t)\n",
    "\n",
    "        # Repetir aleatoriamente 'n_borradas' transiciones\n",
    "        transiciones_a_repetir = random.sample(nuevas_transiciones, n_borradas)\n",
    "        for t in transiciones_a_repetir:\n",
    "            nuevas_transiciones.append(t)\n",
    "\n",
    "        nuevos_arrays.append(nuevas_transiciones)\n",
    "\n",
    "    return nuevos_arrays"
   ]
  },
  {
   "cell_type": "code",
   "execution_count": 25,
   "metadata": {},
   "outputs": [],
   "source": [
    "def transitions_families_generator_66_v2(transiciones_iniciales, n):\n",
    "    n_transiciones_iniciales = len(transiciones_iniciales)\n",
    "\n",
    "    # Crear lista paralela con contadores de repetición\n",
    "    contadores_repeticion = [0] * n_transiciones_iniciales\n",
    "    \n",
    "    nuevos_arrays = []\n",
    "\n",
    "    for _ in range(n):\n",
    "        # Crear una copia de las transiciones iniciales\n",
    "        nuevas_transiciones = transiciones_iniciales.copy()\n",
    "\n",
    "        # Seleccionar aleatoriamente el 66% de los elementos no utilizados\n",
    "        elementos_no_utilizados = [i for i in range(n_transiciones_iniciales) if contadores_repeticion[i] == 0]\n",
    "        n_borradas = int(0.66 * len(elementos_no_utilizados))\n",
    "        transiciones_a_eliminar = random.sample(elementos_no_utilizados, n_borradas)\n",
    "\n",
    "        # Incrementar los contadores de repetición de los elementos seleccionados\n",
    "        for t in transiciones_a_eliminar:\n",
    "            contadores_repeticion[t] += 1\n",
    "\n",
    "        # Eliminar las transiciones seleccionadas\n",
    "        for t in transiciones_a_eliminar:\n",
    "            nuevas_transiciones.remove(t)\n",
    "\n",
    "        # Repetir aleatoriamente las transiciones\n",
    "        transiciones_a_repetir = random.sample(nuevas_transiciones, n_transiciones_iniciales - len(nuevas_transiciones))\n",
    "        for t in transiciones_a_repetir:\n",
    "            nuevas_transiciones.append(t)\n",
    "\n",
    "        nuevos_arrays.append(nuevas_transiciones)\n",
    "\n",
    "    return nuevos_arrays\n"
   ]
  },
  {
   "cell_type": "code",
   "execution_count": 26,
   "metadata": {},
   "outputs": [],
   "source": [
    "maze5x5 = { \"starting_pos\": [[0,0], [2,0], [4,0]],\n",
    "             \"maze\":[\n",
    "                    ['.', '.', '#', '.', 'G'],#0            0\n",
    "                    ['.', '.', '#', '.', '.'],#1            ↑\n",
    "                    ['.', '.', '.', '.', '.'],#2         2 ← → 3\n",
    "                    ['.', '.', '#', 'x', 'x'],#3            ↓\n",
    "                    ['S', '.', '#', 'x', 'x'],#4            1\n",
    "                    # 0    1    2    3    4\n",
    "                    ]\n",
    "        }"
   ]
  },
  {
   "cell_type": "code",
   "execution_count": 27,
   "metadata": {},
   "outputs": [],
   "source": [
    "shape = \"5x5\"\n",
    "\n",
    "maze = maze5x5[\"maze\"]"
   ]
  },
  {
   "cell_type": "code",
   "execution_count": 28,
   "metadata": {},
   "outputs": [
    {
     "name": "stdout",
     "output_type": "stream",
     "text": [
      "Número de transiciones generadas: 66\n"
     ]
    }
   ],
   "source": [
    "all_transitions = transition_generator(maze)\n",
    "\n",
    "print(\"Número de transiciones generadas:\", len(all_transitions))\n",
    "n = 15  # Generar N nuevos arrays"
   ]
  },
  {
   "cell_type": "code",
   "execution_count": 29,
   "metadata": {},
   "outputs": [
    {
     "ename": "ValueError",
     "evalue": "list.remove(x): x not in list",
     "output_type": "error",
     "traceback": [
      "\u001b[1;31m---------------------------------------------------------------------------\u001b[0m",
      "\u001b[1;31mValueError\u001b[0m                                Traceback (most recent call last)",
      "\u001b[1;32mc:\\Users\\el_sa\\Desktop\\proyectoNN_salva\\src\\01_Trials.ipynb Cell 7\u001b[0m line \u001b[0;36m1\n\u001b[1;32m----> <a href='vscode-notebook-cell:/c%3A/Users/el_sa/Desktop/proyectoNN_salva/src/01_Trials.ipynb#X15sZmlsZQ%3D%3D?line=0'>1</a>\u001b[0m new_transitions \u001b[39m=\u001b[39m transitions_families_generator_66_v2(all_transitions, n)\n",
      "\u001b[1;32mc:\\Users\\el_sa\\Desktop\\proyectoNN_salva\\src\\01_Trials.ipynb Cell 7\u001b[0m line \u001b[0;36m2\n\u001b[0;32m     <a href='vscode-notebook-cell:/c%3A/Users/el_sa/Desktop/proyectoNN_salva/src/01_Trials.ipynb#X15sZmlsZQ%3D%3D?line=21'>22</a>\u001b[0m \u001b[39m# Eliminar las transiciones seleccionadas\u001b[39;00m\n\u001b[0;32m     <a href='vscode-notebook-cell:/c%3A/Users/el_sa/Desktop/proyectoNN_salva/src/01_Trials.ipynb#X15sZmlsZQ%3D%3D?line=22'>23</a>\u001b[0m \u001b[39mfor\u001b[39;00m t \u001b[39min\u001b[39;00m transiciones_a_eliminar:\n\u001b[1;32m---> <a href='vscode-notebook-cell:/c%3A/Users/el_sa/Desktop/proyectoNN_salva/src/01_Trials.ipynb#X15sZmlsZQ%3D%3D?line=23'>24</a>\u001b[0m     nuevas_transiciones\u001b[39m.\u001b[39mremove(t)\n\u001b[0;32m     <a href='vscode-notebook-cell:/c%3A/Users/el_sa/Desktop/proyectoNN_salva/src/01_Trials.ipynb#X15sZmlsZQ%3D%3D?line=25'>26</a>\u001b[0m \u001b[39m# Repetir aleatoriamente las transiciones\u001b[39;00m\n\u001b[0;32m     <a href='vscode-notebook-cell:/c%3A/Users/el_sa/Desktop/proyectoNN_salva/src/01_Trials.ipynb#X15sZmlsZQ%3D%3D?line=26'>27</a>\u001b[0m transiciones_a_repetir \u001b[39m=\u001b[39m random\u001b[39m.\u001b[39msample(nuevas_transiciones, n_transiciones_iniciales \u001b[39m-\u001b[39m \u001b[39mlen\u001b[39m(nuevas_transiciones))\n",
      "\u001b[1;31mValueError\u001b[0m: list.remove(x): x not in list"
     ]
    }
   ],
   "source": [
    "new_transitions = transitions_families_generator_66_v2(all_transitions, n)"
   ]
  }
 ],
 "metadata": {
  "kernelspec": {
   "display_name": "TFG",
   "language": "python",
   "name": "python3"
  },
  "language_info": {
   "codemirror_mode": {
    "name": "ipython",
    "version": 3
   },
   "file_extension": ".py",
   "mimetype": "text/x-python",
   "name": "python",
   "nbconvert_exporter": "python",
   "pygments_lexer": "ipython3",
   "version": "3.11.5"
  }
 },
 "nbformat": 4,
 "nbformat_minor": 2
}
